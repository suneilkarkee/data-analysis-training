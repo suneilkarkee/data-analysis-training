{
 "cells": [
  {
   "cell_type": "markdown",
   "id": "149f8b16-0923-4e87-a777-87b9c613e182",
   "metadata": {},
   "source": [
    "# day4_assignment2"
   ]
  },
  {
   "cell_type": "markdown",
   "id": "d06c0cdf-e1d7-44b0-bd09-4834c01afd04",
   "metadata": {},
   "source": [
    "##### Exercise 1: Write a pay computation program to give the employee 1.5 times the hourly rate for hours worked above 40 hours.\r\n",
    "Enter Hours: 45\r\n",
    "Enter Rate: 10\r\n",
    "Pay: 475.0\r\n"
   ]
  },
  {
   "cell_type": "code",
   "execution_count": 5,
   "id": "e5718678-bef5-43da-878d-df4c7b99c25e",
   "metadata": {},
   "outputs": [
    {
     "name": "stdin",
     "output_type": "stream",
     "text": [
      "enter hour 45\n",
      "enter rate 10\n"
     ]
    },
    {
     "name": "stdout",
     "output_type": "stream",
     "text": [
      "your receivable is rs 475.0\n"
     ]
    }
   ],
   "source": [
    "work = int(input('enter hour'))\n",
    "rate = float(input('enter rate'))\n",
    "if work <= 40:\n",
    "    pay = work*rate\n",
    "else:\n",
    "    remain = work-40\n",
    "    pay = (40*rate)+(remain*rate*1.5)\n",
    "print('your receivable is rs',pay)\n",
    "    "
   ]
  },
  {
   "cell_type": "markdown",
   "id": "2c9cdec6-c7bd-4a3e-abad-f49491f8eba7",
   "metadata": {},
   "source": [
    "#### Write a program to prompt for a score between 0.0 and 1.0. If the score is out of range, print an error message. If the score is between 0.0 and 1.0, print a grade using the following table:\r\n",
    "'\n",
    "\r\n",
    "Range\tGrade\r\n",
    ">= 0.9\tA\r\n",
    ">= 0.8\tB\r\n",
    ">= 0.7\tC\r\n",
    ">= 0.6\tD\r\n",
    "< 0.6\tF\r\n"
   ]
  },
  {
   "cell_type": "code",
   "execution_count": 18,
   "id": "bda0cc86-1a3b-401f-8fcb-e639096f0d4b",
   "metadata": {},
   "outputs": [
    {
     "name": "stdin",
     "output_type": "stream",
     "text": [
      "enter score 0.6\n"
     ]
    },
    {
     "name": "stdout",
     "output_type": "stream",
     "text": [
      "D\n"
     ]
    }
   ],
   "source": [
    "\n",
    "sc = input('enter score')\n",
    "try:\n",
    "    sc = float(sc)\n",
    "    if sc >=0.0 and sc<=1.0:\n",
    "        if sc>= 0.9:\n",
    "            grd = 'A'\n",
    "        elif sc>= 0.8:\n",
    "            grd = 'B'\n",
    "        elif sc >=0.7:\n",
    "            grd = 'C'\n",
    "        elif sc >= 0.6:\n",
    "            grd = 'D'\n",
    "        else:\n",
    "            grd = 'F'\n",
    "        print(grd)\n",
    "    else:\n",
    "        print('the score is out of range')\n",
    "except ValueError:\n",
    "    print('invalid!!')\n",
    "    "
   ]
  }
 ],
 "metadata": {
  "kernelspec": {
   "display_name": "Python 3 (ipykernel)",
   "language": "python",
   "name": "python3"
  },
  "language_info": {
   "codemirror_mode": {
    "name": "ipython",
    "version": 3
   },
   "file_extension": ".py",
   "mimetype": "text/x-python",
   "name": "python",
   "nbconvert_exporter": "python",
   "pygments_lexer": "ipython3",
   "version": "3.11.7"
  }
 },
 "nbformat": 4,
 "nbformat_minor": 5
}
