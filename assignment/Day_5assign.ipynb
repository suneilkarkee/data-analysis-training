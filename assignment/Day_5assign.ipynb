{
 "cells": [
  {
   "cell_type": "markdown",
   "id": "bc79921b-6cb1-4e1c-919e-3b6f04b57904",
   "metadata": {},
   "source": [
    "# nested for loop\n"
   ]
  },
  {
   "cell_type": "code",
   "execution_count": 15,
   "id": "ce628297-7f3b-4b62-abc2-b1765702c469",
   "metadata": {},
   "outputs": [
    {
     "name": "stdout",
     "output_type": "stream",
     "text": [
      "\n",
      "Multiple of  1\n",
      "1 * 1 = 1\n",
      "1 * 2 = 2\n",
      "1 * 3 = 3\n",
      "1 * 4 = 4\n",
      "1 * 5 = 5\n",
      "1 * 6 = 6\n",
      "1 * 7 = 7\n",
      "1 * 8 = 8\n",
      "1 * 9 = 9\n",
      "1 * 10 = 10\n",
      "\n",
      "Multiple of  2\n",
      "2 * 1 = 2\n",
      "2 * 2 = 4\n",
      "2 * 3 = 6\n",
      "2 * 4 = 8\n",
      "2 * 5 = 10\n",
      "2 * 6 = 12\n",
      "2 * 7 = 14\n",
      "2 * 8 = 16\n",
      "2 * 9 = 18\n",
      "2 * 10 = 20\n",
      "\n",
      "Multiple of  3\n",
      "3 * 1 = 3\n",
      "3 * 2 = 6\n",
      "3 * 3 = 9\n",
      "3 * 4 = 12\n",
      "3 * 5 = 15\n",
      "3 * 6 = 18\n",
      "3 * 7 = 21\n",
      "3 * 8 = 24\n",
      "3 * 9 = 27\n",
      "3 * 10 = 30\n",
      "\n",
      "Multiple of  4\n",
      "4 * 1 = 4\n",
      "4 * 2 = 8\n",
      "4 * 3 = 12\n",
      "4 * 4 = 16\n",
      "4 * 5 = 20\n",
      "4 * 6 = 24\n",
      "4 * 7 = 28\n",
      "4 * 8 = 32\n",
      "4 * 9 = 36\n",
      "4 * 10 = 40\n",
      "\n",
      "Multiple of  5\n",
      "5 * 1 = 5\n",
      "5 * 2 = 10\n",
      "5 * 3 = 15\n",
      "5 * 4 = 20\n",
      "5 * 5 = 25\n",
      "5 * 6 = 30\n",
      "5 * 7 = 35\n",
      "5 * 8 = 40\n",
      "5 * 9 = 45\n",
      "5 * 10 = 50\n"
     ]
    }
   ],
   "source": [
    "for i in range (1,6):\n",
    "    print( \"\\nMultiple of \",i)\n",
    "    for j in range(1,11):\n",
    "        print (i,'*',j,'=',i*j)"
   ]
  },
  {
   "cell_type": "markdown",
   "id": "ce2cc419-5e40-45bb-b3a7-1ad29d79149b",
   "metadata": {},
   "source": [
    "# slicing in tuple"
   ]
  },
  {
   "cell_type": "code",
   "execution_count": 16,
   "id": "55324622-bb5e-4140-95de-fab3ceb1ead6",
   "metadata": {},
   "outputs": [
    {
     "name": "stdout",
     "output_type": "stream",
     "text": [
      "my_tuple[0] =  Hello\n",
      "my_tuple[-1] =  8.2\n",
      "my_tuple[1:3] =  ('world', 1)\n",
      "my_tuple[-3:-1] =  ('world', 1)\n",
      "my_tuple[:2] =  ('Hello', 'world')\n",
      "my_tuple[2:] =  (1, 8.2)\n"
     ]
    }
   ],
   "source": [
    "my_tuple = ('Hello','world',1,8.2)\n",
    "print('my_tuple[0] = ',my_tuple[0])\n",
    "print('my_tuple[-1] = ',my_tuple[-1])\n",
    "print('my_tuple[1:3] = ',my_tuple[1:3])\n",
    "print('my_tuple[-3:-1] = ',my_tuple[-3:-1])\n",
    "print('my_tuple[:2] = ',my_tuple[:2])\n",
    "print('my_tuple[2:] = ',my_tuple[2:])"
   ]
  }
 ],
 "metadata": {
  "kernelspec": {
   "display_name": "Python 3 (ipykernel)",
   "language": "python",
   "name": "python3"
  },
  "language_info": {
   "codemirror_mode": {
    "name": "ipython",
    "version": 3
   },
   "file_extension": ".py",
   "mimetype": "text/x-python",
   "name": "python",
   "nbconvert_exporter": "python",
   "pygments_lexer": "ipython3",
   "version": "3.11.7"
  }
 },
 "nbformat": 4,
 "nbformat_minor": 5
}
