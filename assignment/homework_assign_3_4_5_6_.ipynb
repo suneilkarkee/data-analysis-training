{
 "cells": [
  {
   "cell_type": "markdown",
   "id": "1ed5d6bf-6fb6-4b45-b3ea-793a863a1a58",
   "metadata": {},
   "source": [
    "# homework assign 3"
   ]
  },
  {
   "cell_type": "markdown",
   "id": "bee5fc77-e00e-474d-9004-02952a2f2888",
   "metadata": {},
   "source": [
    "### Exercise 1: Rewrite your pay computation with time-and-a-half for over-time and create a function called computepay which takes two parameters (hours and rate).\r\n",
    "Enter Hours: 45\r\n",
    "Enter Rate: 10\r\n",
    "Pay: 475.0\r\n"
   ]
  },
  {
   "cell_type": "code",
   "execution_count": 3,
   "id": "e2be416f-daba-4656-81b0-a9aa2a4326f0",
   "metadata": {},
   "outputs": [
    {
     "name": "stdin",
     "output_type": "stream",
     "text": [
      "enter hours:  45\n",
      "enter rate:  10\n"
     ]
    },
    {
     "name": "stdout",
     "output_type": "stream",
     "text": [
      "pay is  475.0\n"
     ]
    }
   ],
   "source": [
    "hr = int(input('enter hours: '))\n",
    "rate = float(input('enter rate: '))\n",
    "def computepay (hours,rate):\n",
    "    if hours <= 40:\n",
    "        return hours*rate\n",
    "    else:\n",
    "        return (rate*40)+(rate*1.5*(hours-40))\n",
    "\n",
    "print('pay is ',computepay(hr,rate))"
   ]
  },
  {
   "cell_type": "markdown",
   "id": "2e0b31c7-1d22-4bb8-a03f-22da813a1676",
   "metadata": {},
   "source": [
    "### Exercise 2: Rewrite the grade program from the previous chapter using a function called computegrade that takes a score as its parameter and returns a grade as a string.\r\n",
    "\r\n",
    "Range\tGrade\r\n",
    ">= 0.9\tA\r\n",
    ">= 0.8\tB\r\n",
    ">= 0.7\tC\r\n",
    ">= 0.6\tD\r\n",
    "< 0.6\tF\r\n"
   ]
  },
  {
   "cell_type": "code",
   "execution_count": 12,
   "id": "7f8c49d1-41fe-4f86-bcb4-50d0a89a55f6",
   "metadata": {},
   "outputs": [
    {
     "name": "stdin",
     "output_type": "stream",
     "text": [
      "enter your score:  -0.8\n"
     ]
    },
    {
     "name": "stdout",
     "output_type": "stream",
     "text": [
      "Bad score\n"
     ]
    }
   ],
   "source": [
    "sc = input('enter your score: ')\n",
    "def computegrade(scr):\n",
    "    try:\n",
    "        scr = float(scr)\n",
    "        if scr >= 0.0 and scr <= 1.0:\n",
    "            if scr >= 0.9:\n",
    "                return 'A'\n",
    "            elif scr >= 0.8:\n",
    "                return 'B'\n",
    "            elif scr >= 0.7:\n",
    "                return 'C'\n",
    "            elif scr >= 0.6:\n",
    "                return 'D'\n",
    "            else:\n",
    "                return 'F'\n",
    "        else:\n",
    "            return 'Bad score'\n",
    "    except:\n",
    "        return 'Bad score'\n",
    "\n",
    "print(computegrade(sc))\n"
   ]
  },
  {
   "cell_type": "markdown",
   "id": "75b2ceeb-d474-4a1c-98de-bd0b7d10452f",
   "metadata": {},
   "source": [
    "# homework assign 4"
   ]
  },
  {
   "cell_type": "markdown",
   "id": "77e0879b-730e-4ff0-a841-e3d4b66fa3d5",
   "metadata": {},
   "source": [
    "### Exercise 1: Write a program which repeatedly reads numbers until the user enters “done”. Once “done” is entered, print out the total, count, and average of the numbers. If the user enters anything other than a number, detect their mistake using try and except and print an error message and skip to the next number."
   ]
  },
  {
   "cell_type": "code",
   "execution_count": 18,
   "id": "a7446ae7-a20d-453a-ad18-7202e1e55eac",
   "metadata": {},
   "outputs": [
    {
     "name": "stdin",
     "output_type": "stream",
     "text": [
      "enter a number:  4\n",
      "enter a number:  5\n",
      "enter a number:  bad data \n"
     ]
    },
    {
     "name": "stdout",
     "output_type": "stream",
     "text": [
      "invalid input\n"
     ]
    },
    {
     "name": "stdin",
     "output_type": "stream",
     "text": [
      "enter a number:  7\n",
      "enter a number:  done\n"
     ]
    },
    {
     "name": "stdout",
     "output_type": "stream",
     "text": [
      "invalid input\n",
      "sum:  16.0 \n",
      "count:  3 \n",
      "avg:  5.333333333333333\n"
     ]
    }
   ],
   "source": [
    "def calc():\n",
    "    k = 0\n",
    "    p = 0\n",
    "    num = 'a'\n",
    "    while num != 'done':\n",
    "        num = input('enter a number: ')\n",
    "        try:\n",
    "            num = float(num)\n",
    "            k += num\n",
    "            p += 1\n",
    "        except:\n",
    "            print('invalid input')\n",
    "    return k,p\n",
    "sum,count = calc()\n",
    "print('sum: ',sum, '\\ncount: ', count,'\\navg: ',sum/count)\n",
    "    "
   ]
  },
  {
   "cell_type": "markdown",
   "id": "ae23f6ae-153f-424a-8cf8-21215ecdfc14",
   "metadata": {},
   "source": [
    "### Exercise 2: Write another program that prompts for a list of numbers as above and at the end prints out both the maximum and minimum of the numbers instead of the average."
   ]
  },
  {
   "cell_type": "code",
   "execution_count": 21,
   "id": "5a452723-3392-4eaf-a831-4ca72adda0c3",
   "metadata": {},
   "outputs": [
    {
     "name": "stdin",
     "output_type": "stream",
     "text": [
      "enter a number:  5\n",
      "enter a number:  2\n",
      "enter a number:  9\n",
      "enter a number:  1\n",
      "enter a number:  h\n"
     ]
    },
    {
     "name": "stdout",
     "output_type": "stream",
     "text": [
      "invalid input\n"
     ]
    },
    {
     "name": "stdin",
     "output_type": "stream",
     "text": [
      "enter a number:  -2\n",
      "enter a number:  done\n"
     ]
    },
    {
     "name": "stdout",
     "output_type": "stream",
     "text": [
      "invalid input\n",
      "sum:  15.0 \n",
      "count:  5 \n",
      "min:  -2.0 \n",
      "max:  9.0\n"
     ]
    }
   ],
   "source": [
    "def calc():\n",
    "    k = 0\n",
    "    p = 0\n",
    "    list1 = []\n",
    "    num = 'a'\n",
    "    while num != 'done':\n",
    "        num = input('enter a number: ')\n",
    "        try:\n",
    "            num = float(num)\n",
    "            k += num\n",
    "            p += 1\n",
    "            list1.append(num)\n",
    "        except:\n",
    "            print('invalid input')\n",
    "    return k,p,list1\n",
    "sum,count,listA = calc()\n",
    "listA.sort()\n",
    "print('sum: ',sum,\n",
    "      '\\ncount: ', count,\n",
    "      '\\nmin: ',listA[0],\n",
    "      '\\nmax: ',listA[-1])\n",
    "    "
   ]
  },
  {
   "cell_type": "markdown",
   "id": "e9fb5f86-c5e5-4a9c-95f6-5b59fbff4c9c",
   "metadata": {},
   "source": [
    "# homework assign 5"
   ]
  },
  {
   "cell_type": "markdown",
   "id": "2ad01c07-a28f-4b58-a571-5354aeb0cf96",
   "metadata": {},
   "source": [
    "# homework assign 6"
   ]
  },
  {
   "cell_type": "code",
   "execution_count": null,
   "id": "95d9e411-6557-476f-9f7d-b5e55e5a4bc0",
   "metadata": {},
   "outputs": [],
   "source": []
  }
 ],
 "metadata": {
  "kernelspec": {
   "display_name": "Python 3 (ipykernel)",
   "language": "python",
   "name": "python3"
  },
  "language_info": {
   "codemirror_mode": {
    "name": "ipython",
    "version": 3
   },
   "file_extension": ".py",
   "mimetype": "text/x-python",
   "name": "python",
   "nbconvert_exporter": "python",
   "pygments_lexer": "ipython3",
   "version": "3.11.7"
  }
 },
 "nbformat": 4,
 "nbformat_minor": 5
}
