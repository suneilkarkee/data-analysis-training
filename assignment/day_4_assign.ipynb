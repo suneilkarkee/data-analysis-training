{
 "cells": [
  {
   "cell_type": "markdown",
   "id": "37afbde9-508b-44ed-8146-6dbc93a6bbcd",
   "metadata": {},
   "source": [
    "# Removing multiple element from the list"
   ]
  },
  {
   "cell_type": "markdown",
   "id": "ce48dea4-61bd-4653-82ea-566074e0ff82",
   "metadata": {},
   "source": [
    "### removing using index with 'del'\n"
   ]
  },
  {
   "cell_type": "code",
   "execution_count": 3,
   "id": "6fec795f-365f-48ce-b265-24c4c2a1751c",
   "metadata": {},
   "outputs": [
    {
     "name": "stdout",
     "output_type": "stream",
     "text": [
      "[1, 2, 3, 5, 6, 7, 8, 9]\n"
     ]
    }
   ],
   "source": [
    "a = [1,2,3,4,5,6,7,8,9]\n",
    "del a[3]\n",
    "print(a)"
   ]
  },
  {
   "cell_type": "code",
   "execution_count": 4,
   "id": "c6237103-7116-4fb5-9f21-7399cc052f19",
   "metadata": {},
   "outputs": [
    {
     "name": "stdout",
     "output_type": "stream",
     "text": [
      "[1, 2, 8, 9]\n"
     ]
    }
   ],
   "source": [
    "del a[2:6]\n",
    "print(a)"
   ]
  },
  {
   "cell_type": "markdown",
   "id": "6af782a2-3ee7-436f-b816-2acf7a78973f",
   "metadata": {},
   "source": [
    "### removng elements using  'for loop'"
   ]
  },
  {
   "cell_type": "code",
   "execution_count": 9,
   "id": "b9ccf3e8-224d-432a-86d3-3de6e076621d",
   "metadata": {},
   "outputs": [
    {
     "name": "stdout",
     "output_type": "stream",
     "text": [
      "[4, 5, 9, 44, 22, 33, 66, 88, 44, 45]\n",
      "[4, 5, 9, 22, 66, 88, 45]\n"
     ]
    }
   ],
   "source": [
    "b = [4,5,9,44,22,33,66,88,44,45]\n",
    "print(b)\n",
    "to_remove = [44,22,33,45]\n",
    "for x in b:\n",
    "    if x in to_remove:\n",
    "        b.remove(x)\n",
    "print(b)"
   ]
  }
 ],
 "metadata": {
  "kernelspec": {
   "display_name": "Python 3 (ipykernel)",
   "language": "python",
   "name": "python3"
  },
  "language_info": {
   "codemirror_mode": {
    "name": "ipython",
    "version": 3
   },
   "file_extension": ".py",
   "mimetype": "text/x-python",
   "name": "python",
   "nbconvert_exporter": "python",
   "pygments_lexer": "ipython3",
   "version": "3.11.7"
  }
 },
 "nbformat": 4,
 "nbformat_minor": 5
}
