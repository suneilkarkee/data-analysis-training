{
 "cells": [
  {
   "cell_type": "markdown",
   "id": "b3be257a-6dfc-4d06-81ed-2093e8e40636",
   "metadata": {},
   "source": [
    "# CALCULATOR USING eval function IN PYTHON"
   ]
  },
  {
   "cell_type": "code",
   "execution_count": 29,
   "id": "b7cc9c75-3ba2-479d-aa5f-7a7247efaf89",
   "metadata": {},
   "outputs": [
    {
     "name": "stdout",
     "output_type": "stream",
     "text": [
      "operators manual\n",
      "Add-> +\n",
      "sub-> -\n",
      "multiply-> *\n",
      "divide-> /\n",
      "quotient-> //\n",
      "remainder-> %\n",
      "power-> **\n"
     ]
    },
    {
     "name": "stdin",
     "output_type": "stream",
     "text": [
      "first no:  95\n",
      "second no:  3\n",
      "operator:  %\n"
     ]
    },
    {
     "name": "stdout",
     "output_type": "stream",
     "text": [
      "\n",
      " 95 % 3 = 2\n"
     ]
    }
   ],
   "source": [
    "#notifying the user about the operators\n",
    "print('''operators manual\n",
    "Add-> +\n",
    "sub-> -\n",
    "multiply-> *\n",
    "divide-> /\n",
    "quotient-> //\n",
    "remainder-> %\n",
    "power-> **''')\n",
    "# taking input from users\n",
    "a = input('first no: ')\n",
    "b = input('second no: ')\n",
    "operator = input('operator: ')\n",
    "#using eval function to calculate\n",
    "result = eval(a + operator + b)\n",
    "#printing the result\n",
    "print('\\n',a,operator,b,'=',result)"
   ]
  },
  {
   "cell_type": "markdown",
   "id": "df44723e-3d11-4fdd-8eee-a4eb113856dc",
   "metadata": {},
   "source": [
    "# CALCULATOR USING SWITCH CASE IN PYTHON"
   ]
  },
  {
   "cell_type": "code",
   "execution_count": 30,
   "id": "79b5ed9d-17a4-405a-bc61-ab1e66374002",
   "metadata": {},
   "outputs": [
    {
     "name": "stdout",
     "output_type": "stream",
     "text": [
      "operators manual\n",
      "Add-> +\n",
      "sub-> -\n",
      "multiply-> *\n",
      "divide-> /\n",
      "quotient-> //\n",
      "remainder-> %\n",
      "power-> **\n"
     ]
    },
    {
     "name": "stdin",
     "output_type": "stream",
     "text": [
      "first no:  8\n",
      "second no:  5\n",
      "operator:  *\n"
     ]
    },
    {
     "name": "stdout",
     "output_type": "stream",
     "text": [
      "\n",
      " 8 * 5 = 40\n"
     ]
    }
   ],
   "source": [
    "#notifying the user about the operators\n",
    "print('''operators manual\n",
    "Add-> +\n",
    "sub-> -\n",
    "multiply-> *\n",
    "divide-> /\n",
    "quotient-> //\n",
    "remainder-> %\n",
    "power-> **''')\n",
    "# taking input from users\n",
    "a = int(input('first no: '))\n",
    "b = int(input('second no: '))\n",
    "operator = input('operator: ')\n",
    "#Using switch case\n",
    "match operator:\n",
    "    case '+':\n",
    "        result = a+b\n",
    "    case '-':\n",
    "        result = a-b\n",
    "    case '*':\n",
    "        result = a*b\n",
    "    case '/':\n",
    "        result = a/b\n",
    "    case '//':\n",
    "        result = a//b\n",
    "    case '%':\n",
    "        result = a%b\n",
    "    case '**':\n",
    "        result = a**b\n",
    "#printing the result\n",
    "print('\\n', a,operator,b,'=',result)"
   ]
  },
  {
   "cell_type": "code",
   "execution_count": null,
   "id": "201eb3dd-3a13-4303-96a9-f2b9e7efbd32",
   "metadata": {},
   "outputs": [],
   "source": []
  },
  {
   "cell_type": "code",
   "execution_count": null,
   "id": "4923a6ce-083c-4d0e-94e0-e529ede222b9",
   "metadata": {},
   "outputs": [],
   "source": []
  }
 ],
 "metadata": {
  "kernelspec": {
   "display_name": "Python 3 (ipykernel)",
   "language": "python",
   "name": "python3"
  },
  "language_info": {
   "codemirror_mode": {
    "name": "ipython",
    "version": 3
   },
   "file_extension": ".py",
   "mimetype": "text/x-python",
   "name": "python",
   "nbconvert_exporter": "python",
   "pygments_lexer": "ipython3",
   "version": "3.11.7"
  }
 },
 "nbformat": 4,
 "nbformat_minor": 5
}
