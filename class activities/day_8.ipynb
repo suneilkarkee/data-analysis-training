{
 "cells": [
  {
   "cell_type": "markdown",
   "id": "6082aa70-d50b-4d3f-912a-c78e12eb4391",
   "metadata": {},
   "source": [
    "# day 8\n"
   ]
  },
  {
   "cell_type": "code",
   "execution_count": 7,
   "id": "5e2d5a52-093d-4e3e-821e-4d3bb3c331f7",
   "metadata": {},
   "outputs": [
    {
     "name": "stdout",
     "output_type": "stream",
     "text": [
      "john\n",
      "john studies in level 2\n",
      "john studies in level 3\n"
     ]
    }
   ],
   "source": [
    "class Student:\n",
    "    def __init__(self, name,level): #constructor\n",
    "        self.name = name\n",
    "        self.level = level\n",
    "    def __str__(self):\n",
    "        return '{} studies in level {}'.format(self.name,self.level)\n",
    "    def func (self):#regular function\n",
    "        self.level += 1\n",
    "student1 = Student('john',2)\n",
    "print(student1.name)\n",
    "print(student1)\n",
    "student1.func()\n",
    "print(student1)"
   ]
  },
  {
   "cell_type": "code",
   "execution_count": 11,
   "id": "05f451ac-16e4-4896-a498-668ab688944d",
   "metadata": {},
   "outputs": [
    {
     "name": "stdout",
     "output_type": "stream",
     "text": [
      "sunil is the student of datascience\n",
      "amir is the student of ui\n"
     ]
    }
   ],
   "source": [
    "class mindrisers:\n",
    "    def __init__(self,name,faculty):\n",
    "        self.name = name\n",
    "        self.faculty = faculty\n",
    "    def __str__(self):\n",
    "        return '{} is the student of {}'.format(self.name,self.faculty)\n",
    "    def ds (self):\n",
    "        self.faculty = 'datascience'\n",
    "    def ui (self):\n",
    "        self.faculty = 'ui'\n",
    "stu1 = mindrisers('sunil','null')\n",
    "stu2 = mindrisers('amir','null')\n",
    "stu1.ds()\n",
    "stu2.ui()\n",
    "print(stu1)\n",
    "print(stu2)\n",
    "        "
   ]
  },
  {
   "cell_type": "code",
   "execution_count": 12,
   "id": "047d8032-807c-4245-9343-945e9cb3e90c",
   "metadata": {},
   "outputs": [
    {
     "ename": "SyntaxError",
     "evalue": "invalid syntax (99877980.py, line 7)",
     "output_type": "error",
     "traceback": [
      "\u001b[1;36m  Cell \u001b[1;32mIn[12], line 7\u001b[1;36m\u001b[0m\n\u001b[1;33m    def\u001b[0m\n\u001b[1;37m        ^\u001b[0m\n\u001b[1;31mSyntaxError\u001b[0m\u001b[1;31m:\u001b[0m invalid syntax\n"
     ]
    }
   ],
   "source": [
    "class Shapes:\n",
    "    def __init__(self,color = 'Black',filled = False):\n",
    "        self.__color = color\n",
    "        self.__filled = filed\n",
    "    def get_color(self):\n",
    "        return self.__color\n",
    "    def \n",
    "class Rect(Shapes):\n",
    "    def __init__(self,leng,breadth):\n",
    "        self.leng  = leng\n",
    "        self.breadth = breadth\n",
    "class circle(circle):\n",
    "    def __init__"
   ]
  },
  {
   "cell_type": "code",
   "execution_count": 13,
   "id": "41f44f57-7109-466d-909b-b148bd86acad",
   "metadata": {},
   "outputs": [
    {
     "name": "stdout",
     "output_type": "stream",
     "text": [
      "I like to eat bones\n"
     ]
    }
   ],
   "source": [
    "class Animal:\n",
    "\n",
    "    # attributes and method of the parent class\n",
    "    name = \"\"\n",
    "    \n",
    "    def eat(self):\n",
    "        print(\"I can eat\")\n",
    "\n",
    "# inherit from Animal\n",
    "class Dog(Animal):\n",
    "\n",
    "    # override eat() method\n",
    "    def eat(self):\n",
    "        print(\"I like to eat bones\")\n",
    "\n",
    "# create an object of the subclass\n",
    "labrador = Dog()\n",
    "\n",
    "# call the eat() method on the labrador object\n",
    "labrador.eat()"
   ]
  },
  {
   "cell_type": "code",
   "execution_count": 14,
   "id": "58527edc-3dd2-4d5f-8cf5-7b2e2e6e9e0c",
   "metadata": {},
   "outputs": [
    {
     "name": "stdout",
     "output_type": "stream",
     "text": [
      "Woof!\n",
      "Meow!\n"
     ]
    }
   ],
   "source": [
    "# Parent class\n",
    "class Animal:\n",
    "    def __init__(self, species):\n",
    "        self.species = species\n",
    "\n",
    "    def speak(self):\n",
    "        raise NotImplementedError(\"Subclasses must implement this method\")\n",
    "\n",
    "\n",
    "# Child class (inherits from Animal)\n",
    "class Dog(Animal):\n",
    "    def speak(self):\n",
    "        return \"Woof!\"\n",
    "\n",
    "\n",
    "# Child class (inherits from Animal)\n",
    "class Cat(Animal):\n",
    "    def speak(self):\n",
    "        return \"Meow!\"\n",
    "\n",
    "\n",
    "# Creating instances of the child classes\n",
    "dog = Dog(\"Canine\")\n",
    "cat = Cat(\"Feline\")\n",
    "\n",
    "# Calling the speak method of each instance\n",
    "print(dog.speak())  # Output: Woof!\n",
    "print(cat.speak())  # Output: Meow!\n"
   ]
  },
  {
   "cell_type": "code",
   "execution_count": 15,
   "id": "7f709177-1662-4a31-9519-bae739905c5f",
   "metadata": {},
   "outputs": [
    {
     "name": "stdout",
     "output_type": "stream",
     "text": [
      "This animal makes some sound!\n",
      "Woof!\n",
      "Meow!\n",
      "Woof woof!\n"
     ]
    }
   ],
   "source": [
    "# Parent class\n",
    "class Animal:\n",
    "    def __init__(self, species):\n",
    "        self.species = species\n",
    "\n",
    "    def speak(self):\n",
    "        return \"This animal makes some sound!\"\n",
    "\n",
    "\n",
    "# Child class inheriting from Animal\n",
    "class Dog(Animal):\n",
    "    def speak(self):\n",
    "        return \"Woof!\"\n",
    "\n",
    "\n",
    "# Child class inheriting from Animal\n",
    "class Cat(Animal):\n",
    "    def speak(self):\n",
    "        return \"Meow!\"\n",
    "\n",
    "\n",
    "# Grandchild class inheriting from Dog\n",
    "class GermanShepherd(Dog):\n",
    "    def speak(self):\n",
    "        return \"Woof woof!\"\n",
    "\n",
    "\n",
    "# Creating instances of different classes\n",
    "animal = Animal(\"Generic\")\n",
    "dog = Dog(\"Canine\")\n",
    "cat = Cat(\"Feline\")\n",
    "german_shepherd = GermanShepherd(\"Canine\")\n",
    "\n",
    "# Calling the speak method of each instance\n",
    "print(animal.speak())  # Output: This animal makes some sound!\n",
    "print(dog.speak())     # Output: Woof!\n",
    "print(cat.speak())     # Output: Meow!\n",
    "print(german_shepherd.speak())  # Output: Woof woof!\n"
   ]
  },
  {
   "cell_type": "code",
   "execution_count": null,
   "id": "dccd3713-afca-42d1-b8a3-b0f0f94b2733",
   "metadata": {},
   "outputs": [],
   "source": []
  }
 ],
 "metadata": {
  "kernelspec": {
   "display_name": "Python 3 (ipykernel)",
   "language": "python",
   "name": "python3"
  },
  "language_info": {
   "codemirror_mode": {
    "name": "ipython",
    "version": 3
   },
   "file_extension": ".py",
   "mimetype": "text/x-python",
   "name": "python",
   "nbconvert_exporter": "python",
   "pygments_lexer": "ipython3",
   "version": "3.11.7"
  }
 },
 "nbformat": 4,
 "nbformat_minor": 5
}
