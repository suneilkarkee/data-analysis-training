{
 "cells": [
  {
   "cell_type": "markdown",
   "id": "02d3baa6-339a-4684-8b5d-1840ecf019ba",
   "metadata": {},
   "source": [
    "# day_7"
   ]
  },
  {
   "cell_type": "markdown",
   "id": "adb5964d-998c-4eb4-bfb9-3bdffe0bdf1b",
   "metadata": {},
   "source": [
    "## functional programming in python"
   ]
  },
  {
   "cell_type": "markdown",
   "id": "fb392a95-dc83-468b-885a-e17e8f52bffd",
   "metadata": {},
   "source": [
    "### map"
   ]
  },
  {
   "cell_type": "code",
   "execution_count": 17,
   "id": "4ec4be9c-3bbc-4b19-8856-8b0ed8efe4ac",
   "metadata": {},
   "outputs": [
    {
     "name": "stdout",
     "output_type": "stream",
     "text": [
      "[True, False, True, False]\n"
     ]
    }
   ],
   "source": [
    "def start_with_A (s):\n",
    "    #map function le suta auta list ko element liyera function ma pass garxa\n",
    "    return s[0] == 'A'\n",
    "frt = ('Apple','Banana','Avo','carrot')\n",
    "map_obj = map(start_with_A,frt)\n",
    "print(list (map_obj))"
   ]
  },
  {
   "cell_type": "code",
   "execution_count": 18,
   "id": "29409cd3-ec85-4ceb-8fb9-f3356f8c0081",
   "metadata": {},
   "outputs": [
    {
     "name": "stdout",
     "output_type": "stream",
     "text": [
      "[True, False, True, False]\n"
     ]
    }
   ],
   "source": [
    "map_obj = map(lambda s:s[0] == 'A', frt)\n",
    "print(list(map_obj))"
   ]
  },
  {
   "cell_type": "code",
   "execution_count": 19,
   "id": "01a07a94-5724-409f-a574-dc57c72ea821",
   "metadata": {},
   "outputs": [
    {
     "name": "stdout",
     "output_type": "stream",
     "text": [
      "['Apple', 'Avo']\n"
     ]
    }
   ],
   "source": [
    "#filter\n",
    "def start_with_A (s):\n",
    "    #map function le suta auta list ko element liyera function ma pass garxa\n",
    "    return s[0] == 'A'\n",
    "frt = ('Apple','Banana','Avo','carrot')\n",
    "map_obj = filter(start_with_A,frt)\n",
    "print(list (map_obj))"
   ]
  },
  {
   "cell_type": "code",
   "execution_count": 20,
   "id": "62a1e841-d283-493e-8cdc-fd02df6fc976",
   "metadata": {},
   "outputs": [
    {
     "name": "stdout",
     "output_type": "stream",
     "text": [
      "<class 'filter'>\n",
      "['Apple', 'Avo']\n"
     ]
    }
   ],
   "source": [
    "map_obj = filter(lambda s: s[0] == 'A',frt)\n",
    "print(type(map_obj))\n",
    "print(list(map_obj))"
   ]
  },
  {
   "cell_type": "markdown",
   "id": "eac8331a-cf2f-49fb-ab99-f124de18c538",
   "metadata": {},
   "source": [
    "# OOP"
   ]
  },
  {
   "cell_type": "code",
   "execution_count": 21,
   "id": "7bf64e04-651d-481b-b919-84e65a59271a",
   "metadata": {},
   "outputs": [],
   "source": [
    "# class is a blueprint of a object\n",
    "# object are instance ...\n",
    "class Student:\n",
    "    pass"
   ]
  },
  {
   "cell_type": "code",
   "execution_count": 24,
   "id": "2184ccb3-eaf9-4631-86ea-81572f4ec26e",
   "metadata": {},
   "outputs": [],
   "source": [
    "student1 = Student() # instancce of class student\n",
    "student2 = Student() # instancce of class student\n",
    "student3 = Student() # instancce of class student"
   ]
  },
  {
   "cell_type": "code",
   "execution_count": 25,
   "id": "dead99e1-fd59-42e6-b8c3-fe64899f576a",
   "metadata": {},
   "outputs": [
    {
     "name": "stdout",
     "output_type": "stream",
     "text": [
      "<class '__main__.Student'>\n"
     ]
    }
   ],
   "source": [
    "print(type(student1))"
   ]
  },
  {
   "cell_type": "code",
   "execution_count": 28,
   "id": "b377c72c-80b9-44e5-895a-9443e9cbe911",
   "metadata": {},
   "outputs": [
    {
     "name": "stdout",
     "output_type": "stream",
     "text": [
      "<built-in function id> <__main__.Student object at 0x0000012CD7DF9090>\n"
     ]
    }
   ],
   "source": [
    "print(id, student2)"
   ]
  },
  {
   "cell_type": "code",
   "execution_count": 31,
   "id": "5e3ba04d-b313-4167-bebb-8349c91235c0",
   "metadata": {},
   "outputs": [
    {
     "name": "stdout",
     "output_type": "stream",
     "text": [
      "school of data science\n"
     ]
    }
   ],
   "source": [
    "# class and object ma is le autai memory location ma xa ki xaina vanera check garxa\n",
    "class Student:\n",
    "    # classs variables\n",
    "    school = 'school of data science'\n",
    "    #class vitra school vanne variable banayo\n",
    "    #class create vayo\n",
    "student1 = Student()\n",
    "#student class ma student1 object create vayo\n",
    "print(student1.school)\n",
    "# . operator le variable call garyo"
   ]
  },
  {
   "cell_type": "code",
   "execution_count": 7,
   "id": "6b7cb5bc-1df1-4335-9d64-06af95f1a204",
   "metadata": {},
   "outputs": [
    {
     "name": "stdout",
     "output_type": "stream",
     "text": [
      "john\n",
      "john studies in level ips\n"
     ]
    }
   ],
   "source": [
    "#constructor\n",
    "class Student:\n",
    "    def __init__(self, name,level):\n",
    "        self.name = name\n",
    "        self.level = level\n",
    "    def __str__(self):\n",
    "        return '{} studies in level {}'.format(self.name,self.level)\n",
    "student1 = Student('john','ips')\n",
    "print(student1.name)\n",
    "print(student1)"
   ]
  },
  {
   "cell_type": "code",
   "execution_count": 8,
   "id": "a5b3946e-f222-475d-8075-a625f7a11495",
   "metadata": {},
   "outputs": [
    {
     "name": "stdout",
     "output_type": "stream",
     "text": [
      "john studies in level 55\n"
     ]
    }
   ],
   "source": [
    "\n",
    "student1 = Student('john',55)\n",
    "print(student1)"
   ]
  },
  {
   "cell_type": "code",
   "execution_count": null,
   "id": "7c798881-b75d-4266-8e77-dbde7fd703f9",
   "metadata": {},
   "outputs": [],
   "source": []
  },
  {
   "cell_type": "code",
   "execution_count": null,
   "id": "e260fd07-9917-4a28-a7ec-4037ff03f1f1",
   "metadata": {},
   "outputs": [],
   "source": []
  }
 ],
 "metadata": {
  "kernelspec": {
   "display_name": "Python 3 (ipykernel)",
   "language": "python",
   "name": "python3"
  },
  "language_info": {
   "codemirror_mode": {
    "name": "ipython",
    "version": 3
   },
   "file_extension": ".py",
   "mimetype": "text/x-python",
   "name": "python",
   "nbconvert_exporter": "python",
   "pygments_lexer": "ipython3",
   "version": "3.11.7"
  }
 },
 "nbformat": 4,
 "nbformat_minor": 5
}
