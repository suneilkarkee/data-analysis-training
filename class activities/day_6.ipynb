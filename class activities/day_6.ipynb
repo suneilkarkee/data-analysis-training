{
 "cells": [
  {
   "cell_type": "markdown",
   "id": "83dec236-17ee-449c-916f-890e8ac88047",
   "metadata": {},
   "source": [
    "# day_6"
   ]
  },
  {
   "cell_type": "code",
   "execution_count": 3,
   "id": "5f98ba61-bf39-4429-ad4d-a298abab2b08",
   "metadata": {},
   "outputs": [
    {
     "name": "stdout",
     "output_type": "stream",
     "text": [
      "e\n"
     ]
    }
   ],
   "source": [
    "my_tuple = (2,6,'e','h')\n",
    "n1,n2,n3,n4 = my_tuple\n",
    "print(n3)"
   ]
  },
  {
   "cell_type": "markdown",
   "id": "8f27f9cc-e6dc-4c0f-8b32-61d4a4fdbc4c",
   "metadata": {},
   "source": [
    "# loop through a tuple"
   ]
  },
  {
   "cell_type": "code",
   "execution_count": 5,
   "id": "e7ec4056-5028-43ac-b9e0-85de8cae6c5e",
   "metadata": {},
   "outputs": [
    {
     "name": "stdout",
     "output_type": "stream",
     "text": [
      "2\n",
      "6\n",
      "e\n",
      "h\n"
     ]
    }
   ],
   "source": [
    "for x in my_tuple:\n",
    "    print(x)"
   ]
  },
  {
   "cell_type": "code",
   "execution_count": 9,
   "id": "68631517-4477-4a56-a395-ab775b460f88",
   "metadata": {},
   "outputs": [
    {
     "name": "stdout",
     "output_type": "stream",
     "text": [
      "(2, 6, 'e', 'h', 'vv', 'tt', 'ww', 'tt', 5, 9, 'vv', 'tt', 'ww', 'tt', 5, 9)\n"
     ]
    }
   ],
   "source": [
    "#can change the length element but can change the length of the tuple\n",
    "tuple1 = ('vv','tt','ww','tt',5,9)\n",
    "my_tuple= my_tuple + tuple1\n",
    "print(my_tuple)"
   ]
  },
  {
   "cell_type": "code",
   "execution_count": 11,
   "id": "0cacffc1-39ec-4d81-aec6-02b556a95d9e",
   "metadata": {},
   "outputs": [
    {
     "name": "stdout",
     "output_type": "stream",
     "text": [
      "('vv', 'tt', 'ww', 'tt', 5, 9, 'vv', 'tt', 'ww', 'tt', 5, 9, 'vv', 'tt', 'ww', 'tt', 5, 9, 'vv', 'tt', 'ww', 'tt', 5, 9)\n"
     ]
    }
   ],
   "source": [
    "# multiplying the tuple by certain int gets the value in repeated by that times\n",
    "tuple1 = tuple1*2\n",
    "print(tuple1)"
   ]
  },
  {
   "cell_type": "markdown",
   "id": "f2b1a738-a425-42d0-8c0e-1775081c59a8",
   "metadata": {},
   "source": [
    "# set"
   ]
  },
  {
   "cell_type": "code",
   "execution_count": 19,
   "id": "114bf5aa-d997-4d66-b526-06c3b347e529",
   "metadata": {},
   "outputs": [
    {
     "data": {
      "text/plain": [
       "{'55', '96', False, True, 'a'}"
      ]
     },
     "execution_count": 19,
     "metadata": {},
     "output_type": "execute_result"
    }
   ],
   "source": [
    "# cant accept the duplicate value\n",
    "#we cant perform indexing here\n",
    "# 1 is romoved cause true and 1 are same to 1 is removed\n",
    "set1 = {'a','55',True,'96',False,1}\n",
    "set1"
   ]
  },
  {
   "cell_type": "code",
   "execution_count": null,
   "id": "dda39caf-a4eb-4e24-b889-e2f4377e3449",
   "metadata": {},
   "outputs": [],
   "source": [
    "#loop\n",
    "#x in set\n",
    "#.add\n",
    "#.update"
   ]
  },
  {
   "cell_type": "markdown",
   "id": "aa3e0b5a-3ef1-42ee-8e4e-d29469b8c0f7",
   "metadata": {},
   "source": [
    "# dictionary"
   ]
  },
  {
   "cell_type": "code",
   "execution_count": 43,
   "id": "9d075dff-f518-4055-91b8-dac1507ddb51",
   "metadata": {},
   "outputs": [
    {
     "name": "stdout",
     "output_type": "stream",
     "text": [
      "{'ktm': 5, 'bkt': 4, 'lil': 6.5}\n"
     ]
    }
   ],
   "source": [
    "city_pop = {'ktm':5,\n",
    "            'bkt':4,\n",
    "            'lil':6.5}\n",
    "print(city_pop)\n"
   ]
  },
  {
   "cell_type": "code",
   "execution_count": 44,
   "id": "3e081462-90dc-49d1-85e3-73c5e492971a",
   "metadata": {},
   "outputs": [
    {
     "name": "stdout",
     "output_type": "stream",
     "text": [
      "ktm\n",
      "bkt\n",
      "lil\n"
     ]
    }
   ],
   "source": [
    "for i in city_pop:\n",
    "    print(i)"
   ]
  },
  {
   "cell_type": "code",
   "execution_count": 45,
   "id": "f8e8be62-9ca4-4528-be32-03367feb68cc",
   "metadata": {},
   "outputs": [
    {
     "name": "stdout",
     "output_type": "stream",
     "text": [
      "4\n"
     ]
    }
   ],
   "source": [
    "print(city_pop['bkt'])"
   ]
  },
  {
   "cell_type": "code",
   "execution_count": 46,
   "id": "4af20c8d-6882-4869-9874-cebf34a41abc",
   "metadata": {},
   "outputs": [
    {
     "data": {
      "text/plain": [
       "dict_keys(['ktm', 'bkt', 'lil'])"
      ]
     },
     "execution_count": 46,
     "metadata": {},
     "output_type": "execute_result"
    }
   ],
   "source": [
    "city_pop.keys()"
   ]
  },
  {
   "cell_type": "code",
   "execution_count": 47,
   "id": "5a2d6972-bfa0-4640-afe2-10093ce998cd",
   "metadata": {},
   "outputs": [
    {
     "data": {
      "text/plain": [
       "dict_values([5, 4, 6.5])"
      ]
     },
     "execution_count": 47,
     "metadata": {},
     "output_type": "execute_result"
    }
   ],
   "source": [
    "city_pop.values()"
   ]
  },
  {
   "cell_type": "code",
   "execution_count": 48,
   "id": "88a5203f-0fbf-4d2d-8d99-c35ce23ce6ee",
   "metadata": {},
   "outputs": [
    {
     "data": {
      "text/plain": [
       "dict_items([('ktm', 5), ('bkt', 4), ('lil', 6.5)])"
      ]
     },
     "execution_count": 48,
     "metadata": {},
     "output_type": "execute_result"
    }
   ],
   "source": [
    "city_pop.items()"
   ]
  },
  {
   "cell_type": "code",
   "execution_count": 49,
   "id": "93929461-3e2f-4e97-a391-11693085b184",
   "metadata": {},
   "outputs": [
    {
     "data": {
      "text/plain": [
       "True"
      ]
     },
     "execution_count": 49,
     "metadata": {},
     "output_type": "execute_result"
    }
   ],
   "source": [
    "'ktm' in city_pop"
   ]
  },
  {
   "cell_type": "markdown",
   "id": "520c78a9-5072-4209-9874-565d24028803",
   "metadata": {},
   "source": [
    "# change dict item"
   ]
  },
  {
   "cell_type": "code",
   "execution_count": 50,
   "id": "a1573408-00d7-4989-960a-7aecd390149d",
   "metadata": {},
   "outputs": [
    {
     "data": {
      "text/plain": [
       "dict_items([('ktm', 54), ('bkt', 4), ('lil', 6.5)])"
      ]
     },
     "execution_count": 50,
     "metadata": {},
     "output_type": "execute_result"
    }
   ],
   "source": [
    "city_pop['ktm'] = 54\n",
    "city_pop.items()"
   ]
  },
  {
   "cell_type": "code",
   "execution_count": 51,
   "id": "10dc0059-2293-467b-81aa-c4f500f9bae6",
   "metadata": {},
   "outputs": [
    {
     "data": {
      "text/plain": [
       "dict_items([('ktm', 99), ('bkt', 4), ('lil', 6.5)])"
      ]
     },
     "execution_count": 51,
     "metadata": {},
     "output_type": "execute_result"
    }
   ],
   "source": [
    "city_pop.update({'ktm':99})\n",
    "city_pop.items()"
   ]
  },
  {
   "cell_type": "code",
   "execution_count": 57,
   "id": "9809bb17-6479-4ef7-bb0b-1baf9c81df4c",
   "metadata": {},
   "outputs": [
    {
     "data": {
      "text/plain": [
       "dict_items([('ktm', 99), ('bkt', 4), ('lil', 6.5), ('kt', 9)])"
      ]
     },
     "execution_count": 57,
     "metadata": {},
     "output_type": "execute_result"
    }
   ],
   "source": [
    "city_pop.update({'kt':9})\n",
    "city_pop.items()"
   ]
  },
  {
   "cell_type": "markdown",
   "id": "c1c6d211-2417-4f31-9346-f07f38051297",
   "metadata": {},
   "source": [
    "### popping"
   ]
  },
  {
   "cell_type": "code",
   "execution_count": 58,
   "id": "2bd652d0-0e04-4047-b918-57fa5139a70d",
   "metadata": {},
   "outputs": [
    {
     "data": {
      "text/plain": [
       "dict_items([('ktm', 99), ('bkt', 4), ('lil', 6.5)])"
      ]
     },
     "execution_count": 58,
     "metadata": {},
     "output_type": "execute_result"
    }
   ],
   "source": [
    "city_pop.pop('kt')\n",
    "city_pop.items()"
   ]
  },
  {
   "cell_type": "code",
   "execution_count": 59,
   "id": "97dc2f5c-8f95-48a7-b9c8-f96ce06326db",
   "metadata": {},
   "outputs": [],
   "source": [
    "del city_pop['ktm']"
   ]
  },
  {
   "cell_type": "code",
   "execution_count": 60,
   "id": "3fc9c12c-5a71-4f0d-bfb3-c805d2c1bd52",
   "metadata": {},
   "outputs": [
    {
     "data": {
      "text/plain": [
       "{'bkt': 4, 'lil': 6.5}"
      ]
     },
     "execution_count": 60,
     "metadata": {},
     "output_type": "execute_result"
    }
   ],
   "source": [
    "city_pop"
   ]
  },
  {
   "cell_type": "code",
   "execution_count": 61,
   "id": "37083975-67cc-4ecd-b8d2-76e0acba62eb",
   "metadata": {},
   "outputs": [
    {
     "data": {
      "text/plain": [
       "{}"
      ]
     },
     "execution_count": 61,
     "metadata": {},
     "output_type": "execute_result"
    }
   ],
   "source": [
    "city_pop.clear()\n",
    "city_pop"
   ]
  },
  {
   "cell_type": "code",
   "execution_count": null,
   "id": "4f2d56bc-d39f-4cb2-8e14-6bd8cfd8d520",
   "metadata": {},
   "outputs": [],
   "source": []
  }
 ],
 "metadata": {
  "kernelspec": {
   "display_name": "Python 3 (ipykernel)",
   "language": "python",
   "name": "python3"
  },
  "language_info": {
   "codemirror_mode": {
    "name": "ipython",
    "version": 3
   },
   "file_extension": ".py",
   "mimetype": "text/x-python",
   "name": "python",
   "nbconvert_exporter": "python",
   "pygments_lexer": "ipython3",
   "version": "3.11.7"
  }
 },
 "nbformat": 4,
 "nbformat_minor": 5
}
