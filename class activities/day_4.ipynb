{
 "cells": [
  {
   "cell_type": "markdown",
   "id": "99312c5c-243d-4a20-83ad-76271223992d",
   "metadata": {},
   "source": [
    "# day_4"
   ]
  },
  {
   "cell_type": "code",
   "execution_count": 1,
   "id": "a6b54afb-54f4-4335-a30a-848d56634473",
   "metadata": {},
   "outputs": [
    {
     "data": {
      "text/plain": [
       "[1, 3, 7, 9, 4, 88]"
      ]
     },
     "execution_count": 1,
     "metadata": {},
     "output_type": "execute_result"
    }
   ],
   "source": [
    "# adding and deleting the item in the list\n",
    "# . operator calls the function\n",
    "my_list = [1,3,7,9,4]\n",
    "my_list.append(88)\n",
    "my_list"
   ]
  },
  {
   "cell_type": "code",
   "execution_count": 3,
   "id": "21cb6910-0273-4a9b-87ce-fa66161b25d2",
   "metadata": {},
   "outputs": [
    {
     "data": {
      "text/plain": [
       "[1, 3, 7, 9, 4, 88, 99, 55]"
      ]
     },
     "execution_count": 3,
     "metadata": {},
     "output_type": "execute_result"
    }
   ],
   "source": [
    "list1 = [99,55]\n",
    "my_list.extend(list1)\n",
    "my_list"
   ]
  },
  {
   "cell_type": "code",
   "execution_count": 7,
   "id": "ffef41c9-fdef-445b-80ef-ae060e0ea190",
   "metadata": {},
   "outputs": [
    {
     "name": "stdout",
     "output_type": "stream",
     "text": [
      "[1, 3, 7, 9, 88, 99, 55]\n"
     ]
    },
    {
     "data": {
      "text/plain": [
       "[1, 3, 7, 9, 88, 55]"
      ]
     },
     "execution_count": 7,
     "metadata": {},
     "output_type": "execute_result"
    }
   ],
   "source": [
    "print(my_list)\n",
    "my_list.remove(99)\n",
    "my_list"
   ]
  },
  {
   "cell_type": "code",
   "execution_count": 9,
   "id": "0cea1e05-8547-49c7-8823-7f6931ea128a",
   "metadata": {},
   "outputs": [
    {
     "data": {
      "text/plain": [
       "[1, 2, 4, 3, 5]"
      ]
     },
     "execution_count": 9,
     "metadata": {},
     "output_type": "execute_result"
    }
   ],
   "source": [
    "# two same element, removing the element,first one gets removed\n",
    "a = [1,2,3,4,3,5]\n",
    "a.remove(3)\n",
    "a"
   ]
  },
  {
   "cell_type": "code",
   "execution_count": 10,
   "id": "13ca0b90-a520-4043-b643-b4328aafba5b",
   "metadata": {},
   "outputs": [
    {
     "data": {
      "text/plain": [
       "[1, 2, 4, 3]"
      ]
     },
     "execution_count": 10,
     "metadata": {},
     "output_type": "execute_result"
    }
   ],
   "source": [
    "#remove using pop with index\n",
    "a.pop(4)\n",
    "a"
   ]
  },
  {
   "cell_type": "code",
   "execution_count": 11,
   "id": "1c0e3af1-5d38-447c-8f17-09573ecff27b",
   "metadata": {},
   "outputs": [],
   "source": [
    "# if no index is given than the last elemant gets popped"
   ]
  },
  {
   "cell_type": "code",
   "execution_count": 15,
   "id": "6a12b9e9-b17c-47ff-a221-f64ade06be75",
   "metadata": {},
   "outputs": [
    {
     "data": {
      "text/plain": [
       "[2, 4, 3]"
      ]
     },
     "execution_count": 15,
     "metadata": {},
     "output_type": "execute_result"
    }
   ],
   "source": [
    "# using del to remove\n",
    "del a[0]\n",
    "a"
   ]
  },
  {
   "cell_type": "code",
   "execution_count": 18,
   "id": "75740c40-46f2-4aa2-a407-d5de3ed4159c",
   "metadata": {},
   "outputs": [
    {
     "ename": "NameError",
     "evalue": "name 'a' is not defined",
     "output_type": "error",
     "traceback": [
      "\u001b[1;31m---------------------------------------------------------------------------\u001b[0m",
      "\u001b[1;31mNameError\u001b[0m                                 Traceback (most recent call last)",
      "Cell \u001b[1;32mIn[18], line 1\u001b[0m\n\u001b[1;32m----> 1\u001b[0m \u001b[38;5;28;01mdel\u001b[39;00m a\n",
      "\u001b[1;31mNameError\u001b[0m: name 'a' is not defined"
     ]
    }
   ],
   "source": [
    "del a"
   ]
  },
  {
   "cell_type": "code",
   "execution_count": 17,
   "id": "6266ba09-5935-47b1-8242-aaea4089bb7a",
   "metadata": {},
   "outputs": [
    {
     "ename": "NameError",
     "evalue": "name 'a' is not defined",
     "output_type": "error",
     "traceback": [
      "\u001b[1;31m---------------------------------------------------------------------------\u001b[0m",
      "\u001b[1;31mNameError\u001b[0m                                 Traceback (most recent call last)",
      "Cell \u001b[1;32mIn[17], line 1\u001b[0m\n\u001b[1;32m----> 1\u001b[0m a\n",
      "\u001b[1;31mNameError\u001b[0m: name 'a' is not defined"
     ]
    }
   ],
   "source": [
    "a"
   ]
  },
  {
   "cell_type": "code",
   "execution_count": 20,
   "id": "5ae529a6-6bec-4921-88dd-4f66ab19bbca",
   "metadata": {},
   "outputs": [
    {
     "data": {
      "text/plain": [
       "[1, 3, 7, 9, 88, 55]"
      ]
     },
     "execution_count": 20,
     "metadata": {},
     "output_type": "execute_result"
    }
   ],
   "source": [
    "my_list"
   ]
  },
  {
   "cell_type": "code",
   "execution_count": 21,
   "id": "12a2ee2a-abb0-4d87-86b6-75593e320240",
   "metadata": {},
   "outputs": [],
   "source": [
    "my_list.clear()"
   ]
  },
  {
   "cell_type": "code",
   "execution_count": 22,
   "id": "6ba9f15d-878c-4d00-8519-ebce991f20f6",
   "metadata": {},
   "outputs": [
    {
     "data": {
      "text/plain": [
       "[]"
      ]
     },
     "execution_count": 22,
     "metadata": {},
     "output_type": "execute_result"
    }
   ],
   "source": [
    "my_list"
   ]
  },
  {
   "cell_type": "code",
   "execution_count": 38,
   "id": "3436c25a-f8cc-42fd-b05f-df078151e5b6",
   "metadata": {},
   "outputs": [
    {
     "name": "stdout",
     "output_type": "stream",
     "text": [
      "[3, 4, 5, 7, 9, 88]\n",
      "[88, 9, 7, 5, 4, 3]\n"
     ]
    }
   ],
   "source": [
    "a = [4,9,3,7,5,88]\n",
    "a.sort()\n",
    "print(a)\n",
    "a.sort(reverse = True)\n",
    "print(a)"
   ]
  },
  {
   "cell_type": "code",
   "execution_count": 32,
   "id": "bdc61794-dceb-4e8c-9cc0-e8272c4ad3f3",
   "metadata": {},
   "outputs": [
    {
     "data": {
      "text/plain": [
       "['r', 'f', 'a', 'SD']"
      ]
     },
     "execution_count": 32,
     "metadata": {},
     "output_type": "execute_result"
    }
   ],
   "source": [
    "b = ['a','r','f','SD']\n",
    "b.sort()\n",
    "b\n",
    "b.sort(reverse = True)\n",
    "b"
   ]
  },
  {
   "cell_type": "code",
   "execution_count": 41,
   "id": "a869703a-a74f-4a7c-90a5-61b39977d1c5",
   "metadata": {},
   "outputs": [
    {
     "name": "stdout",
     "output_type": "stream",
     "text": [
      "['Btm', 'anamnagar', 'brt', 'ktm']\n",
      "['ktm', 'brt', 'anamnagar', 'Btm']\n"
     ]
    }
   ],
   "source": [
    "a = ['ktm','brt','Btm','anamnagar']\n",
    "a.sort()\n",
    "print(a)\n",
    "a.sort(reverse = True)\n",
    "print(a)"
   ]
  },
  {
   "cell_type": "code",
   "execution_count": 43,
   "id": "caeaf428-c9c6-4564-99af-ac6ab775b147",
   "metadata": {},
   "outputs": [
    {
     "name": "stdout",
     "output_type": "stream",
     "text": [
      "['ktm', 'Btm', 'brt', 'anamnagar']\n"
     ]
    }
   ],
   "source": [
    "#\n",
    "a = ['ktm','brt','Btm','anamnagar']\n",
    "a.sort(key = str.lower, reverse = True)\n",
    "print(a)\n"
   ]
  },
  {
   "cell_type": "code",
   "execution_count": 45,
   "id": "b962973a-fe85-4388-879e-b9b0fcef3ccf",
   "metadata": {},
   "outputs": [
    {
     "name": "stdout",
     "output_type": "stream",
     "text": [
      "['r', 'f', 'a', 'SD']\n",
      "['SD', 'a', 'f', 'r']\n"
     ]
    }
   ],
   "source": [
    "print(b)\n",
    "b.reverse()\n",
    "print(b)"
   ]
  },
  {
   "cell_type": "code",
   "execution_count": 47,
   "id": "d3493e51-30ab-4a61-9e42-a9026bdc2cd8",
   "metadata": {},
   "outputs": [
    {
     "name": "stdout",
     "output_type": "stream",
     "text": [
      "['a', 'c', 'g']\n"
     ]
    }
   ],
   "source": [
    "#make a copy of a list\n",
    "p = ['a','c','g']\n",
    "c = p.copy()\n",
    "print(c)"
   ]
  },
  {
   "cell_type": "code",
   "execution_count": 51,
   "id": "c64f9855-a5dd-4070-bd55-5dbe48e373a5",
   "metadata": {},
   "outputs": [
    {
     "name": "stdout",
     "output_type": "stream",
     "text": [
      "['s', 'g', 't', 'u', 'a', 'c', 'g']\n"
     ]
    }
   ],
   "source": [
    "# joining the list\n",
    "p = ['s','g','t','u']\n",
    "k = p + c\n",
    "print(k)"
   ]
  },
  {
   "cell_type": "code",
   "execution_count": 52,
   "id": "d751f841-e497-4b89-acde-ec2a9346b663",
   "metadata": {},
   "outputs": [
    {
     "name": "stdout",
     "output_type": "stream",
     "text": [
      "['s', 'g', 't', 'u']\n",
      "['s', 'g', 't', 'u', 'a', 'c', 'g']\n"
     ]
    }
   ],
   "source": [
    "\n",
    "print(p)\n",
    "p.extend(c)\n",
    "print(p)"
   ]
  },
  {
   "cell_type": "markdown",
   "id": "eeb96d17-e3d7-4c9d-8953-750804a681ec",
   "metadata": {},
   "source": [
    "# conditional statements"
   ]
  },
  {
   "cell_type": "code",
   "execution_count": 55,
   "id": "51095d8e-8e46-46bb-8703-498834c61419",
   "metadata": {},
   "outputs": [
    {
     "name": "stdin",
     "output_type": "stream",
     "text": [
      "money you have 60\n"
     ]
    },
    {
     "name": "stdout",
     "output_type": "stream",
     "text": [
      "I will have soft drinks\n"
     ]
    }
   ],
   "source": [
    "a = int (input('money you have'))\n",
    "if (a >= 50):\n",
    "    print('I will have soft drinks')\n",
    "else:\n",
    "    print('I will have tea')"
   ]
  },
  {
   "cell_type": "code",
   "execution_count": 58,
   "id": "3dcd7943-3004-40ff-b693-7725de90b38f",
   "metadata": {},
   "outputs": [
    {
     "name": "stdin",
     "output_type": "stream",
     "text": [
      "enter your age:  19\n"
     ]
    },
    {
     "name": "stdout",
     "output_type": "stream",
     "text": [
      "you can vote\n"
     ]
    }
   ],
   "source": [
    "age = int(input('enter your age: '))\n",
    "if age>= 18:\n",
    "    print('you can vote')\n",
    "else:\n",
    "    print('you are minor')"
   ]
  },
  {
   "cell_type": "code",
   "execution_count": 62,
   "id": "3672bdb1-d502-4e77-a27f-3fdbd8511c7d",
   "metadata": {},
   "outputs": [
    {
     "name": "stdin",
     "output_type": "stream",
     "text": [
      "amount you have 15\n"
     ]
    },
    {
     "name": "stdout",
     "output_type": "stream",
     "text": [
      "you dont have enough money\n"
     ]
    }
   ],
   "source": [
    "amt = float(input('amount you have'))\n",
    "if amt>= 100:\n",
    "    print('i will have samosa and coke')\n",
    "elif amt >=50:\n",
    "    print('i will have coke')\n",
    "elif amt>=20:\n",
    "    print('i will have tea')\n",
    "else:\n",
    "    print('you dont have enough money')"
   ]
  },
  {
   "cell_type": "markdown",
   "id": "85524a52-42c2-4675-b9d9-d5f0fa3f5bf3",
   "metadata": {},
   "source": [
    "# loops"
   ]
  },
  {
   "cell_type": "code",
   "execution_count": 65,
   "id": "bd8060b5-1faf-45fc-bc6e-e03fce7618b7",
   "metadata": {},
   "outputs": [
    {
     "name": "stdout",
     "output_type": "stream",
     "text": [
      "2\n",
      "4\n",
      "6\n",
      "8\n",
      "10\n"
     ]
    }
   ],
   "source": [
    "#while\n",
    "x = 2\n",
    "while x<=10:\n",
    "    print(x)\n",
    "    x = x+2\n",
    "    "
   ]
  },
  {
   "cell_type": "code",
   "execution_count": null,
   "id": "42dea850-719f-42b9-9d3a-302f8c640b18",
   "metadata": {},
   "outputs": [],
   "source": []
  }
 ],
 "metadata": {
  "kernelspec": {
   "display_name": "Python 3 (ipykernel)",
   "language": "python",
   "name": "python3"
  },
  "language_info": {
   "codemirror_mode": {
    "name": "ipython",
    "version": 3
   },
   "file_extension": ".py",
   "mimetype": "text/x-python",
   "name": "python",
   "nbconvert_exporter": "python",
   "pygments_lexer": "ipython3",
   "version": "3.11.7"
  }
 },
 "nbformat": 4,
 "nbformat_minor": 5
}
