{
 "cells": [
  {
   "cell_type": "markdown",
   "id": "e22b2683-9727-41e7-bdf6-e083fe3d6ed3",
   "metadata": {},
   "source": [
    "**Day_1**"
   ]
  },
  {
   "cell_type": "code",
   "execution_count": 1,
   "id": "c2a16455-b807-436e-8e77-d0365a416049",
   "metadata": {},
   "outputs": [
    {
     "name": "stdout",
     "output_type": "stream",
     "text": [
      "hello world\n"
     ]
    }
   ],
   "source": [
    "print(\"hello world\")"
   ]
  },
  {
   "cell_type": "markdown",
   "id": "4983cd82-9ab7-4c7b-bc64-8c6b284c92cf",
   "metadata": {},
   "source": [
    "**variable assignment**"
   ]
  },
  {
   "cell_type": "code",
   "execution_count": 29,
   "id": "ace2bae0-8957-449a-8319-254818a15137",
   "metadata": {},
   "outputs": [
    {
     "name": "stdout",
     "output_type": "stream",
     "text": [
      "5\n",
      "ram\n"
     ]
    }
   ],
   "source": [
    "a = 5\n",
    "b = 'ram'\n",
    "print(a)\n",
    "print(b)"
   ]
  },
  {
   "cell_type": "markdown",
   "id": "d1de8563-048a-4466-90e1-7626b8bc552c",
   "metadata": {},
   "source": [
    "**calc with variables**"
   ]
  },
  {
   "cell_type": "code",
   "execution_count": 28,
   "id": "c997adf1-b7f1-4cd9-9302-2e3dffb18355",
   "metadata": {},
   "outputs": [
    {
     "name": "stdout",
     "output_type": "stream",
     "text": [
      "4\n",
      "14\n"
     ]
    }
   ],
   "source": [
    "c = 9\n",
    "d = c+a  #this is addition\n",
    "e = c % a #this is modulus\n",
    "print(e)\n",
    "print(d)"
   ]
  },
  {
   "cell_type": "markdown",
   "id": "bd573e47-1b65-4ac8-8e0a-e587690905bf",
   "metadata": {},
   "source": [
    "**data types**"
   ]
  },
  {
   "cell_type": "code",
   "execution_count": 11,
   "id": "9429b1fd-ca22-468e-b097-48f0930480ba",
   "metadata": {},
   "outputs": [
    {
     "name": "stdout",
     "output_type": "stream",
     "text": [
      "<class 'int'>\n",
      "<class 'str'>\n"
     ]
    }
   ],
   "source": [
    "print(type(a))\n",
    "print(type(b))"
   ]
  },
  {
   "cell_type": "code",
   "execution_count": 14,
   "id": "a962c497-380e-496e-8928-2bfba7d3300e",
   "metadata": {},
   "outputs": [
    {
     "name": "stdout",
     "output_type": "stream",
     "text": [
      "<class 'bool'>\n",
      "<class 'float'>\n"
     ]
    }
   ],
   "source": [
    "t = True\n",
    "f = 3.25\n",
    "print(type(t))\n",
    "print(type(f))"
   ]
  },
  {
   "cell_type": "markdown",
   "id": "85503f90-6cf6-4d1c-a7c3-394a498b9f63",
   "metadata": {},
   "source": [
    "**list**"
   ]
  },
  {
   "cell_type": "code",
   "execution_count": 22,
   "id": "4eaeffa0-3980-4b77-a88c-8e300d480528",
   "metadata": {},
   "outputs": [
    {
     "name": "stdout",
     "output_type": "stream",
     "text": [
      "[5, 9, 'ram', True, 3.99]\n",
      "[[5, 9, 'ram', True, 3.99], ['hari', 55, 'niroula']]\n",
      "['hari', 55, 'niroula']\n",
      "5\n"
     ]
    }
   ],
   "source": [
    "a = 5\n",
    "b = 9\n",
    "c = 'ram'\n",
    "d = True\n",
    "e = 3.99\n",
    "list_1 = [a,b,c,d,e]\n",
    "list_3 = ['hari',55,'niroula']\n",
    "list_2 = [list_1,list_3]\n",
    "print(list_1)\n",
    "print(list_2)\n",
    "print(list_3)\n",
    "print(list_1[0])"
   ]
  },
  {
   "cell_type": "markdown",
   "id": "ef23f608-fe11-4cc1-ba25-e8a55326c4f6",
   "metadata": {},
   "source": [
    "**selecting list and slicing**\n"
   ]
  },
  {
   "cell_type": "code",
   "execution_count": 27,
   "id": "cfe15f53-b9dc-425c-b29f-a6c8ca9a2a9c",
   "metadata": {},
   "outputs": [
    {
     "name": "stdout",
     "output_type": "stream",
     "text": [
      "['hari', 55, 'niroula']\n",
      "niroula\n",
      "55\n",
      "[9, 'ram', True]\n"
     ]
    }
   ],
   "source": [
    "print(list_2[1])\n",
    "print(list_2[1][2])\n",
    "print(list_3[-2])\n",
    "print(list_1[1:4])\n"
   ]
  },
  {
   "cell_type": "markdown",
   "id": "eaf1573a-6b6f-4a3b-b35d-3c6c8d6b5ac7",
   "metadata": {},
   "source": [
    "**tuples**\n"
   ]
  },
  {
   "cell_type": "code",
   "execution_count": 1,
   "id": "99b71f05-d172-42fb-914c-9fec86be9f93",
   "metadata": {},
   "outputs": [
    {
     "name": "stdout",
     "output_type": "stream",
     "text": [
      "99.5\n"
     ]
    }
   ],
   "source": [
    "#these are ordered and unchangeable\n",
    "k = (1,2,'sk',99.5)\n",
    "print(k[3])"
   ]
  },
  {
   "cell_type": "code",
   "execution_count": null,
   "id": "4f18315d-f301-4a53-8cbe-d55892a9cf99",
   "metadata": {},
   "outputs": [],
   "source": []
  },
  {
   "cell_type": "code",
   "execution_count": null,
   "id": "726d3f1f-14b2-47a5-93d8-c4da51cce103",
   "metadata": {},
   "outputs": [],
   "source": []
  }
 ],
 "metadata": {
  "kernelspec": {
   "display_name": "Python 3 (ipykernel)",
   "language": "python",
   "name": "python3"
  },
  "language_info": {
   "codemirror_mode": {
    "name": "ipython",
    "version": 3
   },
   "file_extension": ".py",
   "mimetype": "text/x-python",
   "name": "python",
   "nbconvert_exporter": "python",
   "pygments_lexer": "ipython3",
   "version": "3.11.7"
  }
 },
 "nbformat": 4,
 "nbformat_minor": 5
}
