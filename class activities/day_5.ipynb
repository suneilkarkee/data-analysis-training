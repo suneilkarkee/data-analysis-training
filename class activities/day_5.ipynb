{
 "cells": [
  {
   "cell_type": "markdown",
   "id": "dfd16a97-4a2c-402a-b479-e968c5443d65",
   "metadata": {},
   "source": [
    "# day_5"
   ]
  },
  {
   "cell_type": "code",
   "execution_count": 3,
   "id": "0582436e-fb43-4131-9484-66c2881b6b37",
   "metadata": {},
   "outputs": [
    {
     "name": "stdout",
     "output_type": "stream",
     "text": [
      "0\n",
      "1\n",
      "2\n",
      "3\n"
     ]
    }
   ],
   "source": [
    "# break\n",
    "x = 0\n",
    "while x<10:\n",
    "    print(x)\n",
    "    x = x+1\n",
    "    if x == 4:\n",
    "        break"
   ]
  },
  {
   "cell_type": "code",
   "execution_count": 6,
   "id": "9dbd0093-b653-4cca-99f3-6f814c279fe3",
   "metadata": {},
   "outputs": [
    {
     "name": "stdout",
     "output_type": "stream",
     "text": [
      "1\n",
      "2\n",
      "3\n",
      "5\n",
      "6\n",
      "7\n",
      "8\n",
      "9\n",
      "10\n"
     ]
    }
   ],
   "source": [
    "#continue\n",
    "x = 0\n",
    "while x<10:\n",
    "    x += 1\n",
    "    if x == 4:\n",
    "        continue\n",
    "    print(x)"
   ]
  },
  {
   "cell_type": "code",
   "execution_count": 10,
   "id": "621c3dc5-a176-4b6e-a92d-5db476070ded",
   "metadata": {},
   "outputs": [
    {
     "name": "stdout",
     "output_type": "stream",
     "text": [
      "cat\n",
      "dog\n",
      "man\n",
      "parrot\n"
     ]
    }
   ],
   "source": [
    "lt = ['cat','dog','man','parrot']\n",
    "for ele in lt:\n",
    "    print (ele)"
   ]
  },
  {
   "cell_type": "code",
   "execution_count": 11,
   "id": "64ac0137-dcb8-413d-9907-540d71b68973",
   "metadata": {},
   "outputs": [
    {
     "name": "stdout",
     "output_type": "stream",
     "text": [
      "a\n",
      "n\n",
      "a\n",
      "c\n",
      "o\n",
      "n\n",
      "d\n",
      "a\n"
     ]
    }
   ],
   "source": [
    "for x in 'anaconda':\n",
    "    print(x)"
   ]
  },
  {
   "cell_type": "code",
   "execution_count": 13,
   "id": "94dee4cc-91f4-4568-af14-9c45eed6cb7c",
   "metadata": {},
   "outputs": [
    {
     "name": "stdout",
     "output_type": "stream",
     "text": [
      "a\n",
      "n\n",
      "a\n"
     ]
    }
   ],
   "source": [
    "for x in 'anaconda':\n",
    "    if x == 'c':\n",
    "        break\n",
    "    print(x)\n",
    "    "
   ]
  },
  {
   "cell_type": "code",
   "execution_count": 14,
   "id": "57166110-2627-48b3-9648-4ea6249fc3ab",
   "metadata": {},
   "outputs": [
    {
     "name": "stdout",
     "output_type": "stream",
     "text": [
      "a\n",
      "n\n",
      "a\n",
      "o\n",
      "n\n",
      "d\n",
      "a\n"
     ]
    }
   ],
   "source": [
    "for x in 'anaconda':\n",
    "    if x == 'c':\n",
    "        continue\n",
    "    print(x)"
   ]
  },
  {
   "cell_type": "markdown",
   "id": "edcfe18a-d480-4338-aefd-948b4a3bf850",
   "metadata": {},
   "source": [
    "# range"
   ]
  },
  {
   "cell_type": "code",
   "execution_count": 15,
   "id": "24f39f58-4508-4aa6-8900-02f3c1b8c2bf",
   "metadata": {},
   "outputs": [
    {
     "name": "stdout",
     "output_type": "stream",
     "text": [
      "0\n",
      "1\n",
      "2\n",
      "3\n",
      "4\n"
     ]
    }
   ],
   "source": [
    "for i in range(5):\n",
    "    print(i)"
   ]
  },
  {
   "cell_type": "code",
   "execution_count": 16,
   "id": "5c06febf-edc8-477f-8d35-4e451f96b35a",
   "metadata": {},
   "outputs": [
    {
     "name": "stdout",
     "output_type": "stream",
     "text": [
      "2\n",
      "3\n",
      "4\n"
     ]
    }
   ],
   "source": [
    "for i in range(2,5):\n",
    "    print(i)"
   ]
  },
  {
   "cell_type": "code",
   "execution_count": 17,
   "id": "73d0a1da-7b86-4dda-9fe9-6b74135fbacb",
   "metadata": {},
   "outputs": [
    {
     "name": "stdout",
     "output_type": "stream",
     "text": [
      "3\n",
      "5\n",
      "7\n"
     ]
    }
   ],
   "source": [
    "for i in range(3,9,2):\n",
    "    print(i)"
   ]
  },
  {
   "cell_type": "markdown",
   "id": "ef8042a0-cf60-4444-8991-b73c6508ee4e",
   "metadata": {},
   "source": [
    "## nested loop"
   ]
  },
  {
   "cell_type": "code",
   "execution_count": 19,
   "id": "f3f5947e-ccd5-4eea-8c9d-15c97051b8b2",
   "metadata": {},
   "outputs": [
    {
     "name": "stdout",
     "output_type": "stream",
     "text": [
      "red car\n",
      "red house\n",
      "red chair\n",
      "blue car\n",
      "blue house\n",
      "blue chair\n",
      "green car\n",
      "green house\n",
      "green chair\n"
     ]
    }
   ],
   "source": [
    "clr = ['red','blue','green']\n",
    "ob = ['car','house','chair']\n",
    "for i in clr:\n",
    "    for j in ob:\n",
    "        print(i,j)"
   ]
  },
  {
   "cell_type": "markdown",
   "id": "a6496974-87e5-44f0-ae0b-1ed36b84529f",
   "metadata": {},
   "source": [
    "# functions"
   ]
  },
  {
   "cell_type": "code",
   "execution_count": 22,
   "id": "501e1d16-ffaf-44a1-b9dc-cbb6c60ac257",
   "metadata": {},
   "outputs": [
    {
     "name": "stdout",
     "output_type": "stream",
     "text": [
      "8\n"
     ]
    }
   ],
   "source": [
    "def func(x,y):\n",
    "    return x+y\n",
    "\n",
    "print(func(5,3))"
   ]
  },
  {
   "cell_type": "code",
   "execution_count": 28,
   "id": "96435a6b-a573-4eef-9c35-7e4aba9e152f",
   "metadata": {},
   "outputs": [
    {
     "name": "stdout",
     "output_type": "stream",
     "text": [
      "13\n",
      "17\n"
     ]
    }
   ],
   "source": [
    "def add(x,y = 9):\n",
    "  return x+y\n",
    "print(add(5,8))\n",
    "print(add(8))\n"
   ]
  },
  {
   "cell_type": "code",
   "execution_count": 53,
   "id": "87b60524-b502-4405-9675-7a43d70ef1f6",
   "metadata": {},
   "outputs": [
    {
     "data": {
      "text/plain": [
       "'def add(x = 9,y):\\n  return x+y\\nprint(add(y = 9))\\n'"
      ]
     },
     "execution_count": 53,
     "metadata": {},
     "output_type": "execute_result"
    }
   ],
   "source": [
    "'''def add(x = 9,y):\n",
    "  return x+y\n",
    "print(add(y = 9))\n",
    "'''"
   ]
  },
  {
   "cell_type": "markdown",
   "id": "616d863d-9489-4a6d-895f-1cb38b39795f",
   "metadata": {},
   "source": [
    "# arbitrary args"
   ]
  },
  {
   "cell_type": "code",
   "execution_count": 50,
   "id": "72144316-2b1f-4262-afc2-853a81d9a3e9",
   "metadata": {},
   "outputs": [
    {
     "data": {
      "text/plain": [
       "15"
      ]
     },
     "execution_count": 50,
     "metadata": {},
     "output_type": "execute_result"
    }
   ],
   "source": [
    "\n",
    "def add(*val):\n",
    "    x = 0\n",
    "    for i in val:\n",
    "        x = x+i\n",
    "    return x\n",
    "add(2,5,8)"
   ]
  },
  {
   "cell_type": "code",
   "execution_count": 51,
   "id": "63557de8-c978-4cd9-9364-8d0bc9694ac9",
   "metadata": {},
   "outputs": [
    {
     "name": "stdin",
     "output_type": "stream",
     "text": [
      "enter the no of element you wanna add 9\n",
      "input the number 4\n",
      "input the number 5\n",
      "input the number 88\n",
      "input the number 77\n",
      "input the number 66\n",
      "input the number 2\n",
      "input the number 5\n",
      "input the number 6\n",
      "input the number 8\n"
     ]
    },
    {
     "name": "stdout",
     "output_type": "stream",
     "text": [
      "261\n"
     ]
    }
   ],
   "source": [
    "\n",
    "num = int(input('enter the no of element you wanna add'))\n",
    "list_val = []\n",
    "for i in range(num):\n",
    "    a = int(input('input the number'))\n",
    "    list_val.append(a)\n",
    "\n",
    "def add(*val):\n",
    "    x = 0\n",
    "    for i in val:\n",
    "        x = x+i\n",
    "    return x\n",
    "y = add(*list_val)\n",
    "print (y)"
   ]
  },
  {
   "cell_type": "markdown",
   "id": "2b89120b-f4df-448e-8be7-d8870386f845",
   "metadata": {},
   "source": [
    "# lambda function"
   ]
  },
  {
   "cell_type": "code",
   "execution_count": 58,
   "id": "806aa514-e294-4282-aa23-9831731c6869",
   "metadata": {},
   "outputs": [
    {
     "name": "stdout",
     "output_type": "stream",
     "text": [
      "10\n"
     ]
    }
   ],
   "source": [
    "sum = lambda x,y : (x+y)\n",
    "print(sum(2,8))"
   ]
  },
  {
   "cell_type": "markdown",
   "id": "40f69c2c-5ec9-4a81-bcfe-aefa6e9ec361",
   "metadata": {},
   "source": [
    "# tuple"
   ]
  },
  {
   "cell_type": "code",
   "execution_count": 63,
   "id": "318bb89f-e5fe-4592-b36d-bf26a19626c6",
   "metadata": {},
   "outputs": [
    {
     "name": "stdout",
     "output_type": "stream",
     "text": [
      "a\n",
      "r\n",
      "5\n",
      "of\n",
      "5\n"
     ]
    }
   ],
   "source": [
    "A = ('a','r',5,'of')\n",
    "for i in A:\n",
    "    print(i)\n",
    "print(A[2])\n"
   ]
  },
  {
   "cell_type": "code",
   "execution_count": null,
   "id": "b3843c3c-2eea-49e6-8066-df405eafe7bf",
   "metadata": {},
   "outputs": [],
   "source": []
  }
 ],
 "metadata": {
  "kernelspec": {
   "display_name": "Python 3 (ipykernel)",
   "language": "python",
   "name": "python3"
  },
  "language_info": {
   "codemirror_mode": {
    "name": "ipython",
    "version": 3
   },
   "file_extension": ".py",
   "mimetype": "text/x-python",
   "name": "python",
   "nbconvert_exporter": "python",
   "pygments_lexer": "ipython3",
   "version": "3.11.7"
  }
 },
 "nbformat": 4,
 "nbformat_minor": 5
}
