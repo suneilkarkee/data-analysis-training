{
 "cells": [
  {
   "cell_type": "code",
   "execution_count": 7,
   "id": "3ef4b900-e7a4-4b38-8878-eb624d83b8cf",
   "metadata": {},
   "outputs": [
    {
     "name": "stdout",
     "output_type": "stream",
     "text": [
      "sam  is the child of  gopal\n",
      "hari  is the child of  gita\n"
     ]
    }
   ],
   "source": [
    "class Parents:\n",
    "    def __init__(self):\n",
    "        pass\n",
    "    def display(self):\n",
    "        print(self.name,' is the child of ',self.guardian)\n",
    "class Father(Parents):\n",
    "    def __init__(self,name,father_name):\n",
    "        self.name = name\n",
    "        self.guardian = father_name\n",
    "class Mother(Parents):\n",
    "    def __init__(self,name,mother_name):\n",
    "        self.name = name\n",
    "        self.guardian = mother_name\n",
    "s1 = Father('sam','gopal')\n",
    "s2 = Mother('hari','gita')\n",
    "s1.display()\n",
    "s2.display()\n",
    "        "
   ]
  },
  {
   "cell_type": "code",
   "execution_count": 8,
   "id": "37e61e64-fbbe-4b73-908b-431d0371a03e",
   "metadata": {},
   "outputs": [],
   "source": [
    "#using super keyword"
   ]
  },
  {
   "cell_type": "code",
   "execution_count": 9,
   "id": "b1d743c5-be07-42b3-98cc-560faf81fb78",
   "metadata": {},
   "outputs": [
    {
     "name": "stdout",
     "output_type": "stream",
     "text": [
      "sam is the child of gopal\n",
      "hari is the child of gita\n"
     ]
    }
   ],
   "source": [
    "class Parents:\n",
    "    def __init__(self, name, guardian):\n",
    "        self.name = name\n",
    "        self.guardian = guardian\n",
    "\n",
    "    def display(self):\n",
    "        print(self.name, 'is the child of', self.guardian)\n",
    "\n",
    "\n",
    "class Father(Parents):\n",
    "    def __init__(self, name, father_name):\n",
    "        super().__init__(name, father_name)\n",
    "\n",
    "\n",
    "class Mother(Parents):\n",
    "    def __init__(self, name, mother_name):\n",
    "        super().__init__(name, mother_name)\n",
    "\n",
    "\n",
    "s1 = Father('sam', 'gopal')\n",
    "s2 = Mother('hari', 'gita')\n",
    "\n",
    "s1.display()\n",
    "s2.display()"
   ]
  },
  {
   "cell_type": "code",
   "execution_count": 14,
   "id": "c27c6df0-562e-4329-8408-80130544c0cb",
   "metadata": {},
   "outputs": [
    {
     "name": "stdout",
     "output_type": "stream",
     "text": [
      "gopal is the  father  of  sam\n",
      "gita is the  mother  of  hari\n"
     ]
    }
   ],
   "source": [
    "class Parents:\n",
    "    def __init__(self, name, guardian,pare):\n",
    "        self.name = name\n",
    "        self.guardian = guardian\n",
    "        self.pare = pare\n",
    "\n",
    "    def display(self):\n",
    "        print(self.guardian,'is the ',self.pare,' of ',self.name)\n",
    "\n",
    "\n",
    "class Child_father(Parents):\n",
    "    def __init__(self, name, father_name):\n",
    "        super().__init__(name, father_name,'father')\n",
    "\n",
    "\n",
    "class Child_mother(Parents):\n",
    "    def __init__(self, name, mother_name):\n",
    "        super().__init__(name, mother_name,'mother')\n",
    "\n",
    "\n",
    "s1 = Child_father('sam', 'gopal')\n",
    "s2 = Child_mother('hari', 'gita')\n",
    "\n",
    "s1.display()\n",
    "s2.display()"
   ]
  },
  {
   "cell_type": "code",
   "execution_count": null,
   "id": "cd00c78f-31d1-4741-964a-3f3e2f2bd3da",
   "metadata": {},
   "outputs": [],
   "source": []
  }
 ],
 "metadata": {
  "kernelspec": {
   "display_name": "Python 3 (ipykernel)",
   "language": "python",
   "name": "python3"
  },
  "language_info": {
   "codemirror_mode": {
    "name": "ipython",
    "version": 3
   },
   "file_extension": ".py",
   "mimetype": "text/x-python",
   "name": "python",
   "nbconvert_exporter": "python",
   "pygments_lexer": "ipython3",
   "version": "3.11.7"
  }
 },
 "nbformat": 4,
 "nbformat_minor": 5
}
