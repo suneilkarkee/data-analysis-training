{
 "cells": [
  {
   "cell_type": "markdown",
   "id": "ae73b781-c468-4341-b7eb-50040c910c2b",
   "metadata": {},
   "source": [
    "**day_2**"
   ]
  },
  {
   "cell_type": "markdown",
   "id": "6fd6d998-809d-4fe1-8564-452b032d05cd",
   "metadata": {},
   "source": [
    "## taking input from users"
   ]
  },
  {
   "cell_type": "code",
   "execution_count": 3,
   "id": "e407a4d5-166c-438a-b036-661a62dd4a70",
   "metadata": {},
   "outputs": [
    {
     "name": "stdin",
     "output_type": "stream",
     "text": [
      "enter your name sunil\n"
     ]
    },
    {
     "name": "stdout",
     "output_type": "stream",
     "text": [
      "The name is sunil\n"
     ]
    }
   ],
   "source": [
    "name = input('enter your name')\n",
    "print('The name is',name)"
   ]
  },
  {
   "cell_type": "markdown",
   "id": "818e13d7-08dc-424a-937f-c92acdf8460e",
   "metadata": {},
   "source": [
    "### adding two numbers"
   ]
  },
  {
   "cell_type": "code",
   "execution_count": 8,
   "id": "c5e99759-dd1c-4179-a6a5-d686689b19c7",
   "metadata": {},
   "outputs": [
    {
     "name": "stdin",
     "output_type": "stream",
     "text": [
      "enter first num 5\n",
      "enter second num 6\n"
     ]
    },
    {
     "name": "stdout",
     "output_type": "stream",
     "text": [
      "The sum of two number is  11\n"
     ]
    }
   ],
   "source": [
    "a = int(input('enter first num'))\n",
    "b = int(input('enter second num'))\n",
    "c = a+b\n",
    "print('The sum of two number is ',c)"
   ]
  },
  {
   "cell_type": "markdown",
   "id": "bb49d111-fc2a-4d70-b129-f40fce8ab85f",
   "metadata": {},
   "source": [
    "#### loops in string "
   ]
  },
  {
   "cell_type": "code",
   "execution_count": 12,
   "id": "ca9dbbba-5ea3-4947-878c-4ad939f61513",
   "metadata": {},
   "outputs": [
    {
     "name": "stdout",
     "output_type": "stream",
     "text": [
      "I\n",
      " \n",
      "l\n",
      "o\n",
      "v\n",
      "e\n",
      " \n",
      "p\n",
      "y\n",
      "t\n",
      "h\n",
      "o\n",
      "n\n"
     ]
    }
   ],
   "source": [
    "#loop in strings\n",
    "a = 'I love python'\n",
    "for x in a:\n",
    "    print(x)"
   ]
  },
  {
   "cell_type": "markdown",
   "id": "1180cadd-050d-4a36-97d7-eb3006bdde2e",
   "metadata": {},
   "source": [
    "**multiline comment**"
   ]
  },
  {
   "cell_type": "code",
   "execution_count": 22,
   "id": "30f9d010-6e50-473b-aea9-b519969e98ff",
   "metadata": {},
   "outputs": [
    {
     "name": "stdout",
     "output_type": "stream",
     "text": [
      "This is multiline comment\n"
     ]
    }
   ],
   "source": [
    "'''this is\n",
    "multiline\n",
    "comment'''\n",
    "\n",
    "\"\"\"this is \n",
    "another \n",
    "line\"\"\"\n",
    "print('This is multiline comment')"
   ]
  },
  {
   "cell_type": "markdown",
   "id": "a82d973b-3aff-4973-b2d1-3e9ab9e4c5cd",
   "metadata": {},
   "source": [
    "### variables "
   ]
  },
  {
   "cell_type": "code",
   "execution_count": 21,
   "id": "8b5ddcac-c873-443a-a0c2-dea0c5c83598",
   "metadata": {},
   "outputs": [
    {
     "name": "stdout",
     "output_type": "stream",
     "text": [
      "7\n"
     ]
    }
   ],
   "source": [
    "# variables are the containers that contains vlues.\n",
    "# python is case sensitive\n",
    "x = 2\n",
    "X = 5\n",
    "print(x+X)"
   ]
  },
  {
   "cell_type": "markdown",
   "id": "654191d9-05e9-4bda-8a40-3fe30e7efeb1",
   "metadata": {},
   "source": [
    "### greater naumber"
   ]
  },
  {
   "cell_type": "code",
   "execution_count": 31,
   "id": "dddf14da-9bba-4d9d-b936-d5e313c5eacc",
   "metadata": {},
   "outputs": [
    {
     "name": "stdin",
     "output_type": "stream",
     "text": [
      "enter 1st no 6\n",
      "enter 2nd no 9\n"
     ]
    },
    {
     "name": "stdout",
     "output_type": "stream",
     "text": [
      "<class 'int'>\n",
      "9  is the greater\n"
     ]
    }
   ],
   "source": [
    "a = int(input('enter 1st no'))\n",
    "b = int(input('enter 2nd no'))\n",
    "print(type(a))\n",
    "if a>b:\n",
    "    print(a, ' is the greater')\n",
    "else:\n",
    "    print(b,' is the greater')"
   ]
  },
  {
   "cell_type": "markdown",
   "id": "8a7a4a53-8ae7-4b14-b4db-05e699e61c46",
   "metadata": {},
   "source": [
    "### defining the function"
   ]
  },
  {
   "cell_type": "code",
   "execution_count": 29,
   "id": "049b63e1-c1fe-48c0-8ade-4036b0aac7dd",
   "metadata": {},
   "outputs": [
    {
     "name": "stdin",
     "output_type": "stream",
     "text": [
      "enter 1st no 99\n",
      "enter 2nd no 2\n"
     ]
    },
    {
     "name": "stdout",
     "output_type": "stream",
     "text": [
      "99  is the greater\n"
     ]
    }
   ],
   "source": [
    "a = input('enter 1st no')\n",
    "b = input('enter 2nd no')\n",
    "def chk():\n",
    "    if a>b:\n",
    "        print(a, ' is the greater')\n",
    "    else:\n",
    "        print(b,' is the greater')\n",
    "chk()"
   ]
  },
  {
   "cell_type": "markdown",
   "id": "964cfba0-c05f-4452-9caf-f5e3b9c29680",
   "metadata": {},
   "source": [
    "### checking data types\n"
   ]
  },
  {
   "cell_type": "code",
   "execution_count": 39,
   "id": "432a699d-dcbd-4142-acf8-4850512f1bef",
   "metadata": {},
   "outputs": [
    {
     "name": "stdout",
     "output_type": "stream",
     "text": [
      "<class 'int'>\n",
      "<class 'str'>\n",
      "<class 'float'>\n",
      "<class 'float'>\n",
      "<class 'list'>\n",
      "<class 'tuple'>\n",
      "<class 'set'>\n",
      "<class 'dict'>\n",
      "<class 'bool'>\n",
      "<class 'range'>\n"
     ]
    }
   ],
   "source": [
    "a = 9\n",
    "b = 'sunil'\n",
    "c = 9.99\n",
    "d = ['ww','dd','gg']\n",
    "e = ('ee','tt','yy','hg')\n",
    "f = {'e','t','u','wsw','cd'}\n",
    "g = {'A':1,'B':2,'C':3}\n",
    "print(type(a))\n",
    "print(type(b))\n",
    "print(type(c))\n",
    "print(type(c))\n",
    "print(type(d))\n",
    "print(type(e))\n",
    "print(type(f))\n",
    "print(type(g))\n",
    "print(type('u' in b))\n",
    "print(type(range(66)))"
   ]
  },
  {
   "cell_type": "markdown",
   "id": "ad4f83a8-2d51-4c3a-9fc8-b0a30ba6c932",
   "metadata": {},
   "source": [
    "### type casting"
   ]
  },
  {
   "cell_type": "code",
   "execution_count": 44,
   "id": "3150de83-cf8e-42db-a5cc-4b700d068c72",
   "metadata": {},
   "outputs": [
    {
     "name": "stdout",
     "output_type": "stream",
     "text": [
      "<class 'float'>\n",
      "<class 'int'>\n",
      "<class 'str'>\n"
     ]
    }
   ],
   "source": [
    "a = 99.55\n",
    "print (type(a))\n",
    "a = int(a)\n",
    "print (type(a))\n",
    "a = str(a)\n",
    "print(type(a))"
   ]
  },
  {
   "cell_type": "code",
   "execution_count": 42,
   "id": "f539d3ad-6899-4036-a4ae-b14af985791d",
   "metadata": {},
   "outputs": [
    {
     "name": "stdout",
     "output_type": "stream",
     "text": [
      "<class 'list'>\n"
     ]
    }
   ],
   "source": [
    "f = list(f)\n",
    "print(type(f))"
   ]
  },
  {
   "cell_type": "code",
   "execution_count": null,
   "id": "d57699ca-7a74-4081-8f64-df4b4d09f416",
   "metadata": {},
   "outputs": [],
   "source": []
  }
 ],
 "metadata": {
  "kernelspec": {
   "display_name": "Python 3 (ipykernel)",
   "language": "python",
   "name": "python3"
  },
  "language_info": {
   "codemirror_mode": {
    "name": "ipython",
    "version": 3
   },
   "file_extension": ".py",
   "mimetype": "text/x-python",
   "name": "python",
   "nbconvert_exporter": "python",
   "pygments_lexer": "ipython3",
   "version": "3.11.7"
  }
 },
 "nbformat": 4,
 "nbformat_minor": 5
}
