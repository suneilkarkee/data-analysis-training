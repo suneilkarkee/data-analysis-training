{
 "cells": [
  {
   "cell_type": "markdown",
   "id": "bf8fd799-5ea8-4a65-88e4-ce1010962445",
   "metadata": {},
   "source": [
    "# day_3"
   ]
  },
  {
   "cell_type": "code",
   "execution_count": 2,
   "id": "fc7e8175-63d5-4d99-89d0-bb83ccba97d7",
   "metadata": {},
   "outputs": [
    {
     "name": "stdout",
     "output_type": "stream",
     "text": [
      "3\n"
     ]
    }
   ],
   "source": [
    "#modulo\n",
    "print(18%5)"
   ]
  },
  {
   "cell_type": "code",
   "execution_count": 3,
   "id": "4e1a0d54-9804-40cb-8293-1ab08f926542",
   "metadata": {},
   "outputs": [
    {
     "name": "stdout",
     "output_type": "stream",
     "text": [
      "1679616\n"
     ]
    }
   ],
   "source": [
    "#expo\n",
    "print(6**8)"
   ]
  },
  {
   "cell_type": "code",
   "execution_count": 6,
   "id": "f1770279-aca7-42f5-9974-90b37cca44e8",
   "metadata": {},
   "outputs": [
    {
     "name": "stdout",
     "output_type": "stream",
     "text": [
      "8.166666666666666\n"
     ]
    }
   ],
   "source": [
    "x = 7*(3+8-4)/6\n",
    "print(x)"
   ]
  },
  {
   "cell_type": "code",
   "execution_count": 10,
   "id": "53da172c-24ae-4344-a19b-ee6c489f892c",
   "metadata": {},
   "outputs": [
    {
     "name": "stdout",
     "output_type": "stream",
     "text": [
      "8\n"
     ]
    }
   ],
   "source": [
    "y = 2\n",
    "z = y**3\n",
    "print(z)"
   ]
  },
  {
   "cell_type": "code",
   "execution_count": 11,
   "id": "403ba89a-08a8-45aa-ade2-f53436ae5d53",
   "metadata": {},
   "outputs": [
    {
     "name": "stdout",
     "output_type": "stream",
     "text": [
      "2\n"
     ]
    }
   ],
   "source": [
    "print(7//3)"
   ]
  },
  {
   "cell_type": "code",
   "execution_count": 13,
   "id": "e744a1ed-5042-4821-af03-495219741245",
   "metadata": {},
   "outputs": [
    {
     "name": "stdout",
     "output_type": "stream",
     "text": [
      "8\n"
     ]
    }
   ],
   "source": [
    "x = 5\n",
    "x+=3\n",
    "print(x)"
   ]
  },
  {
   "cell_type": "code",
   "execution_count": 22,
   "id": "6fd9e8a2-124d-4e40-b002-b5e0206419ff",
   "metadata": {},
   "outputs": [
    {
     "name": "stdout",
     "output_type": "stream",
     "text": [
      "0\n",
      "1\n"
     ]
    }
   ],
   "source": [
    "print(1 and 0)\n",
    "print(1 and 1)"
   ]
  },
  {
   "cell_type": "code",
   "execution_count": 21,
   "id": "440a0050-be2d-4268-b703-60a7ccf758bc",
   "metadata": {},
   "outputs": [
    {
     "name": "stdout",
     "output_type": "stream",
     "text": [
      "False\n",
      "1\n"
     ]
    }
   ],
   "source": [
    "a = 6\n",
    "b = 9\n",
    "print(a>5 and b<4)\n",
    "print(1 and 1)"
   ]
  },
  {
   "cell_type": "code",
   "execution_count": 23,
   "id": "2e6be633-632b-43f4-8532-ce6143e2614b",
   "metadata": {},
   "outputs": [],
   "source": [
    "# operator precedence\n",
    "# not\n",
    "# and\n",
    "# or"
   ]
  },
  {
   "cell_type": "code",
   "execution_count": 25,
   "id": "bfb44f69-7ff9-45cb-8e9f-0a8f8029c071",
   "metadata": {},
   "outputs": [
    {
     "name": "stdout",
     "output_type": "stream",
     "text": [
      "True\n"
     ]
    }
   ],
   "source": [
    "print('a' in 'facebook')"
   ]
  },
  {
   "cell_type": "code",
   "execution_count": 26,
   "id": "a4f5053b-211c-4c5c-b33c-347585a9ba29",
   "metadata": {},
   "outputs": [
    {
     "name": "stdout",
     "output_type": "stream",
     "text": [
      "False\n"
     ]
    }
   ],
   "source": [
    "print('e' not in 'table')"
   ]
  },
  {
   "cell_type": "markdown",
   "id": "4661a380-cf41-47e1-b7a0-3047c65761a0",
   "metadata": {},
   "source": [
    "# python list"
   ]
  },
  {
   "cell_type": "code",
   "execution_count": 33,
   "id": "9075d679-e1f1-4e03-89e9-24703c1becf9",
   "metadata": {},
   "outputs": [
    {
     "name": "stdout",
     "output_type": "stream",
     "text": [
      "['sun', 'mon', 'tue', 'wed', 'thu', 'fri', 'sat']\n",
      "tue\n"
     ]
    }
   ],
   "source": [
    "days_of_week = ['sun','mon','tue','wed','thu','fri','sat']\n",
    "print(days_of_week)\n",
    "#indexing\n",
    "print(days_of_week[2])"
   ]
  },
  {
   "cell_type": "code",
   "execution_count": 29,
   "id": "b93752c1-1ba0-4807-96f3-c82c14f7a04b",
   "metadata": {},
   "outputs": [
    {
     "name": "stdout",
     "output_type": "stream",
     "text": [
      "7\n"
     ]
    }
   ],
   "source": [
    "print(len(days_of_week))"
   ]
  },
  {
   "cell_type": "code",
   "execution_count": 35,
   "id": "eca491b7-3440-4094-b935-d5da768447cc",
   "metadata": {},
   "outputs": [
    {
     "name": "stdout",
     "output_type": "stream",
     "text": [
      "['w', 1, True, 2.0]\n"
     ]
    }
   ],
   "source": [
    "list1 = ['w', 1, True, 2.000]\n",
    "print(list1)"
   ]
  },
  {
   "cell_type": "code",
   "execution_count": 37,
   "id": "58f9d4ea-9147-44d4-80a0-c99d30de3b42",
   "metadata": {},
   "outputs": [
    {
     "name": "stdout",
     "output_type": "stream",
     "text": [
      "sat\n",
      "wed\n"
     ]
    }
   ],
   "source": [
    "#negative indexing\n",
    "print(days_of_week[-1])\n",
    "print(days_of_week[-4])"
   ]
  },
  {
   "cell_type": "code",
   "execution_count": 38,
   "id": "8da0ecef-5204-4a31-be38-3ba2b5b9d457",
   "metadata": {},
   "outputs": [
    {
     "name": "stdout",
     "output_type": "stream",
     "text": [
      "['tue', 'wed', 'thu']\n"
     ]
    }
   ],
   "source": [
    "# range\n",
    "print(days_of_week[2:5])"
   ]
  },
  {
   "cell_type": "code",
   "execution_count": 41,
   "id": "2e46a1a9-b30a-44f3-9fe5-bfb89c194d3d",
   "metadata": {},
   "outputs": [
    {
     "name": "stdout",
     "output_type": "stream",
     "text": [
      "['fri', 'sat']\n",
      "['sun', 'mon', 'tue']\n"
     ]
    }
   ],
   "source": [
    "print(days_of_week[5:])\n",
    "print(days_of_week[:-4])"
   ]
  },
  {
   "cell_type": "code",
   "execution_count": 44,
   "id": "530feb26-44c8-40a7-ae83-96c9b0ac88ed",
   "metadata": {},
   "outputs": [
    {
     "name": "stdout",
     "output_type": "stream",
     "text": [
      "False\n",
      "True\n"
     ]
    }
   ],
   "source": [
    "print('som' in days_of_week)\n",
    "print('sun' in days_of_week)"
   ]
  },
  {
   "cell_type": "code",
   "execution_count": 45,
   "id": "3bc3c3ba-19f5-4515-9326-55eb2a4a4b3c",
   "metadata": {},
   "outputs": [
    {
     "name": "stdout",
     "output_type": "stream",
     "text": [
      "['sunday', 'mon', 'tue', 'wed', 'thu', 'fri', 'sat']\n"
     ]
    }
   ],
   "source": [
    "days_of_week[0] = 'sunday'\n",
    "print(days_of_week)"
   ]
  },
  {
   "cell_type": "code",
   "execution_count": 47,
   "id": "8a31494d-3e63-4a97-adc8-c4c4e43a8e31",
   "metadata": {},
   "outputs": [],
   "source": [
    "#changing the value using range\n",
    "days_of_week[2:4] = ['tuesday','wednesday']"
   ]
  },
  {
   "cell_type": "code",
   "execution_count": 48,
   "id": "6741d1ec-4876-4085-85a9-d7650320f032",
   "metadata": {},
   "outputs": [
    {
     "name": "stdout",
     "output_type": "stream",
     "text": [
      "8\n"
     ]
    }
   ],
   "source": [
    "days_of_week[5:6] = ['fri','sat']\n",
    "print(len(days_of_week))"
   ]
  },
  {
   "cell_type": "code",
   "execution_count": 49,
   "id": "8bcbb547-ee52-49d9-92a2-af2dffaaccc8",
   "metadata": {},
   "outputs": [
    {
     "data": {
      "text/plain": [
       "['sunday', 'mon', 'tuesday', 'wednesday', 'thu', 'fri', 'sat', 'sat']"
      ]
     },
     "execution_count": 49,
     "metadata": {},
     "output_type": "execute_result"
    }
   ],
   "source": [
    "days_of_week"
   ]
  },
  {
   "cell_type": "code",
   "execution_count": 50,
   "id": "4954c060-4e7f-44e7-b422-ee30d30643c2",
   "metadata": {},
   "outputs": [],
   "source": [
    "days_of_week[6:8] = ['sat']"
   ]
  },
  {
   "cell_type": "code",
   "execution_count": 51,
   "id": "4338b245-f86c-4bb6-94ea-25f6750080ed",
   "metadata": {},
   "outputs": [
    {
     "name": "stdout",
     "output_type": "stream",
     "text": [
      "['sun', 'mon', 'tue', 'wed', 'thu', 'fri', 'sat']\n"
     ]
    }
   ],
   "source": [
    "print(days_of_weel)"
   ]
  },
  {
   "cell_type": "code",
   "execution_count": null,
   "id": "8d46ce77-7a06-4f16-9591-42f0b9067334",
   "metadata": {},
   "outputs": [],
   "source": []
  }
 ],
 "metadata": {
  "kernelspec": {
   "display_name": "Python 3 (ipykernel)",
   "language": "python",
   "name": "python3"
  },
  "language_info": {
   "codemirror_mode": {
    "name": "ipython",
    "version": 3
   },
   "file_extension": ".py",
   "mimetype": "text/x-python",
   "name": "python",
   "nbconvert_exporter": "python",
   "pygments_lexer": "ipython3",
   "version": "3.11.7"
  }
 },
 "nbformat": 4,
 "nbformat_minor": 5
}
